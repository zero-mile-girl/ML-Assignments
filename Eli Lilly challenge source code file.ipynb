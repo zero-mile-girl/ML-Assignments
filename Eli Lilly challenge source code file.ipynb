{
 "cells": [
  {
   "cell_type": "code",
   "execution_count": 2,
   "metadata": {},
   "outputs": [],
   "source": [
    "import numpy as np\n",
    "import pandas as pd\n",
    "import matplotlib.pyplot as plt\n",
    "import seaborn as sns"
   ]
  },
  {
   "cell_type": "code",
   "execution_count": 3,
   "metadata": {},
   "outputs": [],
   "source": [
    "train=pd.read_csv(r'C:\\Users\\HP\\Downloads\\elli lilly\\dataset\\train.csv')"
   ]
  },
  {
   "cell_type": "code",
   "execution_count": 4,
   "metadata": {},
   "outputs": [
    {
     "data": {
      "text/html": [
       "<div>\n",
       "<style scoped>\n",
       "    .dataframe tbody tr th:only-of-type {\n",
       "        vertical-align: middle;\n",
       "    }\n",
       "\n",
       "    .dataframe tbody tr th {\n",
       "        vertical-align: top;\n",
       "    }\n",
       "\n",
       "    .dataframe thead th {\n",
       "        text-align: right;\n",
       "    }\n",
       "</style>\n",
       "<table border=\"1\" class=\"dataframe\">\n",
       "  <thead>\n",
       "    <tr style=\"text-align: right;\">\n",
       "      <th></th>\n",
       "      <th>instance_id</th>\n",
       "      <th>track_name</th>\n",
       "      <th>popularity</th>\n",
       "      <th>acousticness</th>\n",
       "      <th>danceability</th>\n",
       "      <th>duration_ms</th>\n",
       "      <th>energy</th>\n",
       "      <th>instrumentalness</th>\n",
       "      <th>key</th>\n",
       "      <th>liveness</th>\n",
       "      <th>loudness</th>\n",
       "      <th>voice_gender</th>\n",
       "      <th>mode</th>\n",
       "      <th>speechiness</th>\n",
       "      <th>tempo</th>\n",
       "      <th>musician_category</th>\n",
       "      <th>valence</th>\n",
       "      <th>music_genre</th>\n",
       "    </tr>\n",
       "  </thead>\n",
       "  <tbody>\n",
       "    <tr>\n",
       "      <th>0</th>\n",
       "      <td>MSC_83537.0</td>\n",
       "      <td>Estrellitas y Duendes</td>\n",
       "      <td>49.178</td>\n",
       "      <td>0.970522</td>\n",
       "      <td>0.580508</td>\n",
       "      <td>214625.776</td>\n",
       "      <td>0.192107</td>\n",
       "      <td>0.000000</td>\n",
       "      <td>Scale E</td>\n",
       "      <td>0.147134</td>\n",
       "      <td>-14.140</td>\n",
       "      <td>NaN</td>\n",
       "      <td>Major</td>\n",
       "      <td>0.046404</td>\n",
       "      <td>143.78799999999998</td>\n",
       "      <td>Band</td>\n",
       "      <td>0.598965</td>\n",
       "      <td>Jazz</td>\n",
       "    </tr>\n",
       "    <tr>\n",
       "      <th>1</th>\n",
       "      <td>MSC_22044.0</td>\n",
       "      <td>Al Norte</td>\n",
       "      <td>59.827</td>\n",
       "      <td>1.009380</td>\n",
       "      <td>0.687542</td>\n",
       "      <td>216232.195</td>\n",
       "      <td>0.265942</td>\n",
       "      <td>0.000031</td>\n",
       "      <td>Scale A</td>\n",
       "      <td>0.174655</td>\n",
       "      <td>-13.716</td>\n",
       "      <td>Male</td>\n",
       "      <td>?</td>\n",
       "      <td>0.039949</td>\n",
       "      <td>?</td>\n",
       "      <td>Band</td>\n",
       "      <td>0.357194</td>\n",
       "      <td>Jazz</td>\n",
       "    </tr>\n",
       "    <tr>\n",
       "      <th>2</th>\n",
       "      <td>MSC_62017.0</td>\n",
       "      <td>Yeah! (feat. Lil Jon &amp; Ludacris)</td>\n",
       "      <td>89.023</td>\n",
       "      <td>0.020041</td>\n",
       "      <td>0.967948</td>\n",
       "      <td>273314.723</td>\n",
       "      <td>0.857411</td>\n",
       "      <td>0.000000</td>\n",
       "      <td>Scale D</td>\n",
       "      <td>0.042030</td>\n",
       "      <td>-4.995</td>\n",
       "      <td>Female</td>\n",
       "      <td>Major</td>\n",
       "      <td>0.119917</td>\n",
       "      <td>105.01799999999999</td>\n",
       "      <td>Band</td>\n",
       "      <td>0.635525</td>\n",
       "      <td>Rap</td>\n",
       "    </tr>\n",
       "    <tr>\n",
       "      <th>3</th>\n",
       "      <td>MSC_76365.0</td>\n",
       "      <td>Can’t You See</td>\n",
       "      <td>55.762</td>\n",
       "      <td>0.010284</td>\n",
       "      <td>0.616287</td>\n",
       "      <td>189189.605</td>\n",
       "      <td>0.970513</td>\n",
       "      <td>0.000220</td>\n",
       "      <td>Scale D</td>\n",
       "      <td>0.124637</td>\n",
       "      <td>-4.262</td>\n",
       "      <td>Both</td>\n",
       "      <td>Major</td>\n",
       "      <td>0.167493</td>\n",
       "      <td>?</td>\n",
       "      <td>Duet</td>\n",
       "      <td>0.983750</td>\n",
       "      <td>Rock</td>\n",
       "    </tr>\n",
       "    <tr>\n",
       "      <th>4</th>\n",
       "      <td>MSC_71493.0</td>\n",
       "      <td>Sonata III (G Moll), BWV 1029: Adagio</td>\n",
       "      <td>45.095</td>\n",
       "      <td>0.858769</td>\n",
       "      <td>0.280645</td>\n",
       "      <td>410136.987</td>\n",
       "      <td>0.114732</td>\n",
       "      <td>0.002753</td>\n",
       "      <td>Scale F Sharp</td>\n",
       "      <td>0.134782</td>\n",
       "      <td>-26.922</td>\n",
       "      <td>Female</td>\n",
       "      <td>Minor</td>\n",
       "      <td>0.039139</td>\n",
       "      <td>112.18299999999999</td>\n",
       "      <td>Band</td>\n",
       "      <td>0.074412</td>\n",
       "      <td>Classical</td>\n",
       "    </tr>\n",
       "  </tbody>\n",
       "</table>\n",
       "</div>"
      ],
      "text/plain": [
       "   instance_id                             track_name  popularity  \\\n",
       "0  MSC_83537.0                  Estrellitas y Duendes      49.178   \n",
       "1  MSC_22044.0                               Al Norte      59.827   \n",
       "2  MSC_62017.0       Yeah! (feat. Lil Jon & Ludacris)      89.023   \n",
       "3  MSC_76365.0                          Can’t You See      55.762   \n",
       "4  MSC_71493.0  Sonata III (G Moll), BWV 1029: Adagio      45.095   \n",
       "\n",
       "   acousticness  danceability  duration_ms    energy  instrumentalness  \\\n",
       "0      0.970522      0.580508   214625.776  0.192107          0.000000   \n",
       "1      1.009380      0.687542   216232.195  0.265942          0.000031   \n",
       "2      0.020041      0.967948   273314.723  0.857411          0.000000   \n",
       "3      0.010284      0.616287   189189.605  0.970513          0.000220   \n",
       "4      0.858769      0.280645   410136.987  0.114732          0.002753   \n",
       "\n",
       "             key  liveness  loudness voice_gender   mode  speechiness  \\\n",
       "0        Scale E  0.147134   -14.140          NaN  Major     0.046404   \n",
       "1        Scale A  0.174655   -13.716         Male      ?     0.039949   \n",
       "2        Scale D  0.042030    -4.995       Female  Major     0.119917   \n",
       "3        Scale D  0.124637    -4.262         Both  Major     0.167493   \n",
       "4  Scale F Sharp  0.134782   -26.922       Female  Minor     0.039139   \n",
       "\n",
       "                tempo musician_category   valence music_genre  \n",
       "0  143.78799999999998              Band  0.598965        Jazz  \n",
       "1                   ?              Band  0.357194        Jazz  \n",
       "2  105.01799999999999              Band  0.635525         Rap  \n",
       "3                   ?              Duet  0.983750        Rock  \n",
       "4  112.18299999999999              Band  0.074412   Classical  "
      ]
     },
     "execution_count": 4,
     "metadata": {},
     "output_type": "execute_result"
    }
   ],
   "source": [
    "train.head()"
   ]
  },
  {
   "cell_type": "code",
   "execution_count": null,
   "metadata": {},
   "outputs": [],
   "source": []
  },
  {
   "cell_type": "code",
   "execution_count": 4,
   "metadata": {},
   "outputs": [
    {
     "data": {
      "text/plain": [
       "(15681, 18)"
      ]
     },
     "execution_count": 4,
     "metadata": {},
     "output_type": "execute_result"
    }
   ],
   "source": [
    "train.shape"
   ]
  },
  {
   "cell_type": "code",
   "execution_count": 5,
   "metadata": {},
   "outputs": [],
   "source": [
    "train.drop(['instance_id','track_name'], axis=1, inplace= True)"
   ]
  },
  {
   "cell_type": "code",
   "execution_count": 6,
   "metadata": {},
   "outputs": [
    {
     "data": {
      "text/plain": [
       "popularity            642\n",
       "acousticness            0\n",
       "danceability          556\n",
       "duration_ms            94\n",
       "energy                 94\n",
       "instrumentalness       95\n",
       "key                     0\n",
       "liveness                0\n",
       "loudness               36\n",
       "voice_gender          765\n",
       "mode                   35\n",
       "speechiness            26\n",
       "tempo                   0\n",
       "musician_category    1360\n",
       "valence               677\n",
       "music_genre             0\n",
       "dtype: int64"
      ]
     },
     "execution_count": 6,
     "metadata": {},
     "output_type": "execute_result"
    }
   ],
   "source": [
    "train.isnull().sum()"
   ]
  },
  {
   "cell_type": "code",
   "execution_count": 7,
   "metadata": {},
   "outputs": [
    {
     "name": "stdout",
     "output_type": "stream",
     "text": [
      "popularity : 12744 labels\n",
      "acousticness : 15681 labels\n",
      "danceability : 15126 labels\n",
      "duration_ms : 14012 labels\n",
      "energy : 14372 labels\n",
      "instrumentalness : 11220 labels\n",
      "key : 12 labels\n",
      "liveness : 15681 labels\n",
      "loudness : 10474 labels\n",
      "voice_gender : 4 labels\n",
      "mode : 4 labels\n",
      "speechiness : 15656 labels\n",
      "tempo : 12332 labels\n",
      "musician_category : 4 labels\n",
      "valence : 15005 labels\n",
      "music_genre : 7 labels\n"
     ]
    }
   ],
   "source": [
    "for feature in train.columns[:]:\n",
    "    print(feature,':',len(train[feature].unique()),'labels')"
   ]
  },
  {
   "cell_type": "code",
   "execution_count": 8,
   "metadata": {},
   "outputs": [
    {
     "data": {
      "text/plain": [
       "<matplotlib.axes._subplots.AxesSubplot at 0x170c04345c0>"
      ]
     },
     "execution_count": 8,
     "metadata": {},
     "output_type": "execute_result"
    },
    {
     "data": {
      "image/png": "[encoded data removed]",
      "text/plain": [
       "<Figure size 432x288 with 1 Axes>"
      ]
     },
     "metadata": {
      "needs_background": "light"
     },
     "output_type": "display_data"
    }
   ],
   "source": [
    "train['key'].value_counts().plot.bar()"
   ]
  },
  {
   "cell_type": "markdown",
   "metadata": {},
   "source": [
    "### Feature encoding for 'key' column\n"
   ]
  },
  {
   "cell_type": "code",
   "execution_count": 9,
   "metadata": {},
   "outputs": [],
   "source": [
    "key_Dict = train['key'].value_counts()"
   ]
  },
  {
   "cell_type": "code",
   "execution_count": 11,
   "metadata": {},
   "outputs": [],
   "source": [
    "train['Encoded_key'] = train['key'].map(key_Dict)"
   ]
  },
  {
   "cell_type": "code",
   "execution_count": 12,
   "metadata": {},
   "outputs": [
    {
     "data": {
      "text/html": [
       "<div>\n",
       "<style scoped>\n",
       "    .dataframe tbody tr th:only-of-type {\n",
       "        vertical-align: middle;\n",
       "    }\n",
       "\n",
       "    .dataframe tbody tr th {\n",
       "        vertical-align: top;\n",
       "    }\n",
       "\n",
       "    .dataframe thead th {\n",
       "        text-align: right;\n",
       "    }\n",
       "</style>\n",
       "<table border=\"1\" class=\"dataframe\">\n",
       "  <thead>\n",
       "    <tr style=\"text-align: right;\">\n",
       "      <th></th>\n",
       "      <th>popularity</th>\n",
       "      <th>acousticness</th>\n",
       "      <th>danceability</th>\n",
       "      <th>duration_ms</th>\n",
       "      <th>energy</th>\n",
       "      <th>instrumentalness</th>\n",
       "      <th>key</th>\n",
       "      <th>liveness</th>\n",
       "      <th>loudness</th>\n",
       "      <th>voice_gender</th>\n",
       "      <th>mode</th>\n",
       "      <th>speechiness</th>\n",
       "      <th>tempo</th>\n",
       "      <th>musician_category</th>\n",
       "      <th>valence</th>\n",
       "      <th>music_genre</th>\n",
       "      <th>Encoded_key</th>\n",
       "    </tr>\n",
       "  </thead>\n",
       "  <tbody>\n",
       "    <tr>\n",
       "      <th>0</th>\n",
       "      <td>49.178</td>\n",
       "      <td>0.970522</td>\n",
       "      <td>0.580508</td>\n",
       "      <td>214625.776</td>\n",
       "      <td>0.192107</td>\n",
       "      <td>0.000000</td>\n",
       "      <td>Scale E</td>\n",
       "      <td>0.147134</td>\n",
       "      <td>-14.140</td>\n",
       "      <td>NaN</td>\n",
       "      <td>Major</td>\n",
       "      <td>0.046404</td>\n",
       "      <td>143.78799999999998</td>\n",
       "      <td>Band</td>\n",
       "      <td>0.598965</td>\n",
       "      <td>Jazz</td>\n",
       "      <td>1210</td>\n",
       "    </tr>\n",
       "    <tr>\n",
       "      <th>1</th>\n",
       "      <td>59.827</td>\n",
       "      <td>1.009380</td>\n",
       "      <td>0.687542</td>\n",
       "      <td>216232.195</td>\n",
       "      <td>0.265942</td>\n",
       "      <td>0.000031</td>\n",
       "      <td>Scale A</td>\n",
       "      <td>0.174655</td>\n",
       "      <td>-13.716</td>\n",
       "      <td>Male</td>\n",
       "      <td>?</td>\n",
       "      <td>0.039949</td>\n",
       "      <td>?</td>\n",
       "      <td>Band</td>\n",
       "      <td>0.357194</td>\n",
       "      <td>Jazz</td>\n",
       "      <td>1479</td>\n",
       "    </tr>\n",
       "    <tr>\n",
       "      <th>2</th>\n",
       "      <td>89.023</td>\n",
       "      <td>0.020041</td>\n",
       "      <td>0.967948</td>\n",
       "      <td>273314.723</td>\n",
       "      <td>0.857411</td>\n",
       "      <td>0.000000</td>\n",
       "      <td>Scale D</td>\n",
       "      <td>0.042030</td>\n",
       "      <td>-4.995</td>\n",
       "      <td>Female</td>\n",
       "      <td>Major</td>\n",
       "      <td>0.119917</td>\n",
       "      <td>105.01799999999999</td>\n",
       "      <td>Band</td>\n",
       "      <td>0.635525</td>\n",
       "      <td>Rap</td>\n",
       "      <td>1695</td>\n",
       "    </tr>\n",
       "    <tr>\n",
       "      <th>3</th>\n",
       "      <td>55.762</td>\n",
       "      <td>0.010284</td>\n",
       "      <td>0.616287</td>\n",
       "      <td>189189.605</td>\n",
       "      <td>0.970513</td>\n",
       "      <td>0.000220</td>\n",
       "      <td>Scale D</td>\n",
       "      <td>0.124637</td>\n",
       "      <td>-4.262</td>\n",
       "      <td>Both</td>\n",
       "      <td>Major</td>\n",
       "      <td>0.167493</td>\n",
       "      <td>?</td>\n",
       "      <td>Duet</td>\n",
       "      <td>0.983750</td>\n",
       "      <td>Rock</td>\n",
       "      <td>1695</td>\n",
       "    </tr>\n",
       "    <tr>\n",
       "      <th>4</th>\n",
       "      <td>45.095</td>\n",
       "      <td>0.858769</td>\n",
       "      <td>0.280645</td>\n",
       "      <td>410136.987</td>\n",
       "      <td>0.114732</td>\n",
       "      <td>0.002753</td>\n",
       "      <td>Scale F Sharp</td>\n",
       "      <td>0.134782</td>\n",
       "      <td>-26.922</td>\n",
       "      <td>Female</td>\n",
       "      <td>Minor</td>\n",
       "      <td>0.039139</td>\n",
       "      <td>112.18299999999999</td>\n",
       "      <td>Band</td>\n",
       "      <td>0.074412</td>\n",
       "      <td>Classical</td>\n",
       "      <td>916</td>\n",
       "    </tr>\n",
       "  </tbody>\n",
       "</table>\n",
       "</div>"
      ],
      "text/plain": [
       "   popularity  acousticness  danceability  duration_ms    energy  \\\n",
       "0      49.178      0.970522      0.580508   214625.776  0.192107   \n",
       "1      59.827      1.009380      0.687542   216232.195  0.265942   \n",
       "2      89.023      0.020041      0.967948   273314.723  0.857411   \n",
       "3      55.762      0.010284      0.616287   189189.605  0.970513   \n",
       "4      45.095      0.858769      0.280645   410136.987  0.114732   \n",
       "\n",
       "   instrumentalness            key  liveness  loudness voice_gender   mode  \\\n",
       "0          0.000000        Scale E  0.147134   -14.140          NaN  Major   \n",
       "1          0.000031        Scale A  0.174655   -13.716         Male      ?   \n",
       "2          0.000000        Scale D  0.042030    -4.995       Female  Major   \n",
       "3          0.000220        Scale D  0.124637    -4.262         Both  Major   \n",
       "4          0.002753  Scale F Sharp  0.134782   -26.922       Female  Minor   \n",
       "\n",
       "   speechiness               tempo musician_category   valence music_genre  \\\n",
       "0     0.046404  143.78799999999998              Band  0.598965        Jazz   \n",
       "1     0.039949                   ?              Band  0.357194        Jazz   \n",
       "2     0.119917  105.01799999999999              Band  0.635525         Rap   \n",
       "3     0.167493                   ?              Duet  0.983750        Rock   \n",
       "4     0.039139  112.18299999999999              Band  0.074412   Classical   \n",
       "\n",
       "   Encoded_key  \n",
       "0         1210  \n",
       "1         1479  \n",
       "2         1695  \n",
       "3         1695  \n",
       "4          916  "
      ]
     },
     "execution_count": 12,
     "metadata": {},
     "output_type": "execute_result"
    }
   ],
   "source": [
    "train.head()"
   ]
  },
  {
   "cell_type": "code",
   "execution_count": 13,
   "metadata": {},
   "outputs": [],
   "source": [
    "voice_gender"
   ]
  },
  {
   "cell_type": "code",
   "execution_count": 14,
   "metadata": {},
   "outputs": [
    {
     "data": {
      "text/plain": [
       "Female    5050\n",
       "Male      4953\n",
       "Both      4913\n",
       "Name: voice_gender, dtype: int64"
      ]
     },
     "execution_count": 14,
     "metadata": {},
     "output_type": "execute_result"
    }
   ],
   "source": [
    "train['voice_gender'].value_counts()"
   ]
  },
  {
   "cell_type": "code",
   "execution_count": 16,
   "metadata": {},
   "outputs": [
    {
     "data": {
      "text/plain": [
       "<matplotlib.axes._subplots.AxesSubplot at 0x170c0979518>"
      ]
     },
     "execution_count": 16,
     "metadata": {},
     "output_type": "execute_result"
    },
    {
     "data": {
      "image/png": "[encoded data removed]",
      "text/plain": [
       "<Figure size 432x288 with 1 Axes>"
      ]
     },
     "metadata": {
      "needs_background": "light"
     },
     "output_type": "display_data"
    }
   ],
   "source": [
    "train['voice_gender'].value_counts().plot.bar()"
   ]
  },
  {
   "cell_type": "code",
   "execution_count": 15,
   "metadata": {},
   "outputs": [
    {
     "data": {
      "text/plain": [
       "array([nan, 'Male', 'Female', 'Both'], dtype=object)"
      ]
     },
     "execution_count": 15,
     "metadata": {},
     "output_type": "execute_result"
    }
   ],
   "source": [
    "train['voice_gender'].unique()\n"
   ]
  },
  {
   "cell_type": "code",
   "execution_count": 18,
   "metadata": {},
   "outputs": [],
   "source": [
    "def impute_nan_most_frequent_category(DataFrame,ColName):\n",
    "     most_frequent_category=DataFrame[ColName].mode()[0]\n",
    "     DataFrame[ColName + \"_Imputed\"] = DataFrame[ColName]\n",
    "     DataFrame[ColName + \"_Imputed\"].fillna(most_frequent_category,inplace=True)"
   ]
  },
  {
   "cell_type": "code",
   "execution_count": 20,
   "metadata": {},
   "outputs": [],
   "source": [
    "impute_nan_most_frequent_category(train,'voice_gender')"
   ]
  },
  {
   "cell_type": "code",
   "execution_count": 22,
   "metadata": {},
   "outputs": [],
   "source": [
    "train.drop(['voice_gender'], axis=1, inplace= True)"
   ]
  },
  {
   "cell_type": "code",
   "execution_count": 23,
   "metadata": {},
   "outputs": [
    {
     "data": {
      "text/html": [
       "<div>\n",
       "<style scoped>\n",
       "    .dataframe tbody tr th:only-of-type {\n",
       "        vertical-align: middle;\n",
       "    }\n",
       "\n",
       "    .dataframe tbody tr th {\n",
       "        vertical-align: top;\n",
       "    }\n",
       "\n",
       "    .dataframe thead th {\n",
       "        text-align: right;\n",
       "    }\n",
       "</style>\n",
       "<table border=\"1\" class=\"dataframe\">\n",
       "  <thead>\n",
       "    <tr style=\"text-align: right;\">\n",
       "      <th></th>\n",
       "      <th>popularity</th>\n",
       "      <th>acousticness</th>\n",
       "      <th>danceability</th>\n",
       "      <th>duration_ms</th>\n",
       "      <th>energy</th>\n",
       "      <th>instrumentalness</th>\n",
       "      <th>liveness</th>\n",
       "      <th>loudness</th>\n",
       "      <th>mode</th>\n",
       "      <th>speechiness</th>\n",
       "      <th>tempo</th>\n",
       "      <th>musician_category</th>\n",
       "      <th>valence</th>\n",
       "      <th>music_genre</th>\n",
       "      <th>Encoded_key</th>\n",
       "      <th>voice_gender_Imputed</th>\n",
       "    </tr>\n",
       "  </thead>\n",
       "  <tbody>\n",
       "    <tr>\n",
       "      <th>0</th>\n",
       "      <td>49.178</td>\n",
       "      <td>0.970522</td>\n",
       "      <td>0.580508</td>\n",
       "      <td>214625.776</td>\n",
       "      <td>0.192107</td>\n",
       "      <td>0.000000</td>\n",
       "      <td>0.147134</td>\n",
       "      <td>-14.140</td>\n",
       "      <td>Major</td>\n",
       "      <td>0.046404</td>\n",
       "      <td>143.78799999999998</td>\n",
       "      <td>Band</td>\n",
       "      <td>0.598965</td>\n",
       "      <td>Jazz</td>\n",
       "      <td>1210</td>\n",
       "      <td>Female</td>\n",
       "    </tr>\n",
       "    <tr>\n",
       "      <th>1</th>\n",
       "      <td>59.827</td>\n",
       "      <td>1.009380</td>\n",
       "      <td>0.687542</td>\n",
       "      <td>216232.195</td>\n",
       "      <td>0.265942</td>\n",
       "      <td>0.000031</td>\n",
       "      <td>0.174655</td>\n",
       "      <td>-13.716</td>\n",
       "      <td>?</td>\n",
       "      <td>0.039949</td>\n",
       "      <td>?</td>\n",
       "      <td>Band</td>\n",
       "      <td>0.357194</td>\n",
       "      <td>Jazz</td>\n",
       "      <td>1479</td>\n",
       "      <td>Male</td>\n",
       "    </tr>\n",
       "    <tr>\n",
       "      <th>2</th>\n",
       "      <td>89.023</td>\n",
       "      <td>0.020041</td>\n",
       "      <td>0.967948</td>\n",
       "      <td>273314.723</td>\n",
       "      <td>0.857411</td>\n",
       "      <td>0.000000</td>\n",
       "      <td>0.042030</td>\n",
       "      <td>-4.995</td>\n",
       "      <td>Major</td>\n",
       "      <td>0.119917</td>\n",
       "      <td>105.01799999999999</td>\n",
       "      <td>Band</td>\n",
       "      <td>0.635525</td>\n",
       "      <td>Rap</td>\n",
       "      <td>1695</td>\n",
       "      <td>Female</td>\n",
       "    </tr>\n",
       "    <tr>\n",
       "      <th>3</th>\n",
       "      <td>55.762</td>\n",
       "      <td>0.010284</td>\n",
       "      <td>0.616287</td>\n",
       "      <td>189189.605</td>\n",
       "      <td>0.970513</td>\n",
       "      <td>0.000220</td>\n",
       "      <td>0.124637</td>\n",
       "      <td>-4.262</td>\n",
       "      <td>Major</td>\n",
       "      <td>0.167493</td>\n",
       "      <td>?</td>\n",
       "      <td>Duet</td>\n",
       "      <td>0.983750</td>\n",
       "      <td>Rock</td>\n",
       "      <td>1695</td>\n",
       "      <td>Both</td>\n",
       "    </tr>\n",
       "    <tr>\n",
       "      <th>4</th>\n",
       "      <td>45.095</td>\n",
       "      <td>0.858769</td>\n",
       "      <td>0.280645</td>\n",
       "      <td>410136.987</td>\n",
       "      <td>0.114732</td>\n",
       "      <td>0.002753</td>\n",
       "      <td>0.134782</td>\n",
       "      <td>-26.922</td>\n",
       "      <td>Minor</td>\n",
       "      <td>0.039139</td>\n",
       "      <td>112.18299999999999</td>\n",
       "      <td>Band</td>\n",
       "      <td>0.074412</td>\n",
       "      <td>Classical</td>\n",
       "      <td>916</td>\n",
       "      <td>Female</td>\n",
       "    </tr>\n",
       "  </tbody>\n",
       "</table>\n",
       "</div>"
      ],
      "text/plain": [
       "   popularity  acousticness  danceability  duration_ms    energy  \\\n",
       "0      49.178      0.970522      0.580508   214625.776  0.192107   \n",
       "1      59.827      1.009380      0.687542   216232.195  0.265942   \n",
       "2      89.023      0.020041      0.967948   273314.723  0.857411   \n",
       "3      55.762      0.010284      0.616287   189189.605  0.970513   \n",
       "4      45.095      0.858769      0.280645   410136.987  0.114732   \n",
       "\n",
       "   instrumentalness  liveness  loudness   mode  speechiness  \\\n",
       "0          0.000000  0.147134   -14.140  Major     0.046404   \n",
       "1          0.000031  0.174655   -13.716      ?     0.039949   \n",
       "2          0.000000  0.042030    -4.995  Major     0.119917   \n",
       "3          0.000220  0.124637    -4.262  Major     0.167493   \n",
       "4          0.002753  0.134782   -26.922  Minor     0.039139   \n",
       "\n",
       "                tempo musician_category   valence music_genre  Encoded_key  \\\n",
       "0  143.78799999999998              Band  0.598965        Jazz         1210   \n",
       "1                   ?              Band  0.357194        Jazz         1479   \n",
       "2  105.01799999999999              Band  0.635525         Rap         1695   \n",
       "3                   ?              Duet  0.983750        Rock         1695   \n",
       "4  112.18299999999999              Band  0.074412   Classical          916   \n",
       "\n",
       "  voice_gender_Imputed  \n",
       "0               Female  \n",
       "1                 Male  \n",
       "2               Female  \n",
       "3                 Both  \n",
       "4               Female  "
      ]
     },
     "execution_count": 23,
     "metadata": {},
     "output_type": "execute_result"
    }
   ],
   "source": [
    "train.head()"
   ]
  },
  {
   "cell_type": "code",
   "execution_count": 30,
   "metadata": {},
   "outputs": [],
   "source": [
    "key_Dict = train['voice_gender_Imputed'].value_counts()"
   ]
  },
  {
   "cell_type": "code",
   "execution_count": 31,
   "metadata": {},
   "outputs": [],
   "source": [
    "train['Encoded_voice_gender_Imputed'] = train['voice_gender_Imputed'].map(key_Dict)"
   ]
  },
  {
   "cell_type": "code",
   "execution_count": 32,
   "metadata": {},
   "outputs": [
    {
     "data": {
      "text/html": [
       "<div>\n",
       "<style scoped>\n",
       "    .dataframe tbody tr th:only-of-type {\n",
       "        vertical-align: middle;\n",
       "    }\n",
       "\n",
       "    .dataframe tbody tr th {\n",
       "        vertical-align: top;\n",
       "    }\n",
       "\n",
       "    .dataframe thead th {\n",
       "        text-align: right;\n",
       "    }\n",
       "</style>\n",
       "<table border=\"1\" class=\"dataframe\">\n",
       "  <thead>\n",
       "    <tr style=\"text-align: right;\">\n",
       "      <th></th>\n",
       "      <th>popularity</th>\n",
       "      <th>acousticness</th>\n",
       "      <th>danceability</th>\n",
       "      <th>duration_ms</th>\n",
       "      <th>energy</th>\n",
       "      <th>instrumentalness</th>\n",
       "      <th>liveness</th>\n",
       "      <th>loudness</th>\n",
       "      <th>mode</th>\n",
       "      <th>speechiness</th>\n",
       "      <th>tempo</th>\n",
       "      <th>musician_category</th>\n",
       "      <th>valence</th>\n",
       "      <th>music_genre</th>\n",
       "      <th>Encoded_key</th>\n",
       "      <th>voice_gender_Imputed</th>\n",
       "      <th>Encoded_voice_gender_Imputed</th>\n",
       "    </tr>\n",
       "  </thead>\n",
       "  <tbody>\n",
       "    <tr>\n",
       "      <th>0</th>\n",
       "      <td>49.178</td>\n",
       "      <td>0.970522</td>\n",
       "      <td>0.580508</td>\n",
       "      <td>214625.776</td>\n",
       "      <td>0.192107</td>\n",
       "      <td>0.000000</td>\n",
       "      <td>0.147134</td>\n",
       "      <td>-14.140</td>\n",
       "      <td>Major</td>\n",
       "      <td>0.046404</td>\n",
       "      <td>143.78799999999998</td>\n",
       "      <td>Band</td>\n",
       "      <td>0.598965</td>\n",
       "      <td>Jazz</td>\n",
       "      <td>1210</td>\n",
       "      <td>F</td>\n",
       "      <td>5815</td>\n",
       "    </tr>\n",
       "    <tr>\n",
       "      <th>1</th>\n",
       "      <td>59.827</td>\n",
       "      <td>1.009380</td>\n",
       "      <td>0.687542</td>\n",
       "      <td>216232.195</td>\n",
       "      <td>0.265942</td>\n",
       "      <td>0.000031</td>\n",
       "      <td>0.174655</td>\n",
       "      <td>-13.716</td>\n",
       "      <td>?</td>\n",
       "      <td>0.039949</td>\n",
       "      <td>?</td>\n",
       "      <td>Band</td>\n",
       "      <td>0.357194</td>\n",
       "      <td>Jazz</td>\n",
       "      <td>1479</td>\n",
       "      <td>M</td>\n",
       "      <td>4953</td>\n",
       "    </tr>\n",
       "    <tr>\n",
       "      <th>2</th>\n",
       "      <td>89.023</td>\n",
       "      <td>0.020041</td>\n",
       "      <td>0.967948</td>\n",
       "      <td>273314.723</td>\n",
       "      <td>0.857411</td>\n",
       "      <td>0.000000</td>\n",
       "      <td>0.042030</td>\n",
       "      <td>-4.995</td>\n",
       "      <td>Major</td>\n",
       "      <td>0.119917</td>\n",
       "      <td>105.01799999999999</td>\n",
       "      <td>Band</td>\n",
       "      <td>0.635525</td>\n",
       "      <td>Rap</td>\n",
       "      <td>1695</td>\n",
       "      <td>F</td>\n",
       "      <td>5815</td>\n",
       "    </tr>\n",
       "    <tr>\n",
       "      <th>3</th>\n",
       "      <td>55.762</td>\n",
       "      <td>0.010284</td>\n",
       "      <td>0.616287</td>\n",
       "      <td>189189.605</td>\n",
       "      <td>0.970513</td>\n",
       "      <td>0.000220</td>\n",
       "      <td>0.124637</td>\n",
       "      <td>-4.262</td>\n",
       "      <td>Major</td>\n",
       "      <td>0.167493</td>\n",
       "      <td>?</td>\n",
       "      <td>Duet</td>\n",
       "      <td>0.983750</td>\n",
       "      <td>Rock</td>\n",
       "      <td>1695</td>\n",
       "      <td>B</td>\n",
       "      <td>4913</td>\n",
       "    </tr>\n",
       "    <tr>\n",
       "      <th>4</th>\n",
       "      <td>45.095</td>\n",
       "      <td>0.858769</td>\n",
       "      <td>0.280645</td>\n",
       "      <td>410136.987</td>\n",
       "      <td>0.114732</td>\n",
       "      <td>0.002753</td>\n",
       "      <td>0.134782</td>\n",
       "      <td>-26.922</td>\n",
       "      <td>Minor</td>\n",
       "      <td>0.039139</td>\n",
       "      <td>112.18299999999999</td>\n",
       "      <td>Band</td>\n",
       "      <td>0.074412</td>\n",
       "      <td>Classical</td>\n",
       "      <td>916</td>\n",
       "      <td>F</td>\n",
       "      <td>5815</td>\n",
       "    </tr>\n",
       "  </tbody>\n",
       "</table>\n",
       "</div>"
      ],
      "text/plain": [
       "   popularity  acousticness  danceability  duration_ms    energy  \\\n",
       "0      49.178      0.970522      0.580508   214625.776  0.192107   \n",
       "1      59.827      1.009380      0.687542   216232.195  0.265942   \n",
       "2      89.023      0.020041      0.967948   273314.723  0.857411   \n",
       "3      55.762      0.010284      0.616287   189189.605  0.970513   \n",
       "4      45.095      0.858769      0.280645   410136.987  0.114732   \n",
       "\n",
       "   instrumentalness  liveness  loudness   mode  speechiness  \\\n",
       "0          0.000000  0.147134   -14.140  Major     0.046404   \n",
       "1          0.000031  0.174655   -13.716      ?     0.039949   \n",
       "2          0.000000  0.042030    -4.995  Major     0.119917   \n",
       "3          0.000220  0.124637    -4.262  Major     0.167493   \n",
       "4          0.002753  0.134782   -26.922  Minor     0.039139   \n",
       "\n",
       "                tempo musician_category   valence music_genre  Encoded_key  \\\n",
       "0  143.78799999999998              Band  0.598965        Jazz         1210   \n",
       "1                   ?              Band  0.357194        Jazz         1479   \n",
       "2  105.01799999999999              Band  0.635525         Rap         1695   \n",
       "3                   ?              Duet  0.983750        Rock         1695   \n",
       "4  112.18299999999999              Band  0.074412   Classical          916   \n",
       "\n",
       "  voice_gender_Imputed  Encoded_voice_gender_Imputed  \n",
       "0                    F                          5815  \n",
       "1                    M                          4953  \n",
       "2                    F                          5815  \n",
       "3                    B                          4913  \n",
       "4                    F                          5815  "
      ]
     },
     "execution_count": 32,
     "metadata": {},
     "output_type": "execute_result"
    }
   ],
   "source": [
    "train.head()"
   ]
  },
  {
   "cell_type": "code",
   "execution_count": 22,
   "metadata": {},
   "outputs": [
    {
     "data": {
      "text/plain": [
       "Major    9210\n",
       "Minor    5357\n",
       "?        1079\n",
       "Name: mode, dtype: int64"
      ]
     },
     "execution_count": 22,
     "metadata": {},
     "output_type": "execute_result"
    }
   ],
   "source": [
    "train['mode'].value_counts()"
   ]
  },
  {
   "cell_type": "code",
   "execution_count": 25,
   "metadata": {},
   "outputs": [
    {
     "data": {
      "text/plain": [
       "array(['Major', '?', 'Minor', nan], dtype=object)"
      ]
     },
     "execution_count": 25,
     "metadata": {},
     "output_type": "execute_result"
    }
   ],
   "source": [
    "train['mode'].unique()"
   ]
  },
  {
   "cell_type": "code",
   "execution_count": 26,
   "metadata": {},
   "outputs": [
    {
     "data": {
      "text/plain": [
       "<matplotlib.axes._subplots.AxesSubplot at 0x2318c07aa90>"
      ]
     },
     "execution_count": 26,
     "metadata": {},
     "output_type": "execute_result"
    },
    {
     "data": {
      "image/png": "[encoded data removed]",
      "text/plain": [
       "<Figure size 432x288 with 1 Axes>"
      ]
     },
     "metadata": {
      "needs_background": "light"
     },
     "output_type": "display_data"
    }
   ],
   "source": [
    "train['mode'].value_counts().plot.bar()"
   ]
  },
  {
   "cell_type": "code",
   "execution_count": 27,
   "metadata": {},
   "outputs": [
    {
     "data": {
      "text/plain": [
       "<matplotlib.axes._subplots.AxesSubplot at 0x2318c11a898>"
      ]
     },
     "execution_count": 27,
     "metadata": {},
     "output_type": "execute_result"
    },
    {
     "data": {
      "image/png": "[encoded data removed]",
      "text/plain": [
       "<Figure size 432x288 with 1 Axes>"
      ]
     },
     "metadata": {
      "needs_background": "light"
     },
     "output_type": "display_data"
    }
   ],
   "source": [
    "train['musician_category'].value_counts().plot.bar()"
   ]
  },
  {
   "cell_type": "markdown",
   "metadata": {},
   "source": [
    "popularity column"
   ]
  },
  {
   "cell_type": "code",
   "execution_count": 34,
   "metadata": {},
   "outputs": [
    {
     "data": {
      "text/plain": [
       "<matplotlib.axes._subplots.AxesSubplot at 0x2318c1f4b00>"
      ]
     },
     "execution_count": 34,
     "metadata": {},
     "output_type": "execute_result"
    },
    {
     "data": {
      "image/png": "[encoded data removed]",
      "text/plain": [
       "<Figure size 432x288 with 1 Axes>"
      ]
     },
     "metadata": {
      "needs_background": "light"
     },
     "output_type": "display_data"
    }
   ],
   "source": [
    "sns.boxplot(x='music_genre',y='popularity', data=train)"
   ]
  },
  {
   "cell_type": "code",
   "execution_count": 33,
   "metadata": {},
   "outputs": [],
   "source": [
    "def impute_nan(train, variable, median):\n",
    "    train[variable+'_median']=train[variable].fillna(median)"
   ]
  },
  {
   "cell_type": "code",
   "execution_count": 34,
   "metadata": {},
   "outputs": [],
   "source": [
    "median=train.popularity.median()\n",
    "impute_nan(train,'popularity', median)"
   ]
  },
  {
   "cell_type": "code",
   "execution_count": 35,
   "metadata": {},
   "outputs": [
    {
     "name": "stdout",
     "output_type": "stream",
     "text": [
      "17.679788585680157\n",
      "17.32630862401102\n"
     ]
    }
   ],
   "source": [
    "print(train['popularity'].std())\n",
    "print(train['popularity_median'].std())"
   ]
  },
  {
   "cell_type": "code",
   "execution_count": 36,
   "metadata": {},
   "outputs": [
    {
     "data": {
      "text/plain": [
       "<matplotlib.legend.Legend at 0x170c0cd7b70>"
      ]
     },
     "execution_count": 36,
     "metadata": {},
     "output_type": "execute_result"
    },
    {
     "data": {
      "image/png": "[encoded data removed]",
      "text/plain": [
       "<Figure size 432x288 with 1 Axes>"
      ]
     },
     "metadata": {
      "needs_background": "light"
     },
     "output_type": "display_data"
    }
   ],
   "source": [
    "fig= plt.figure()\n",
    "ax=fig.add_subplot(111)\n",
    "train['popularity'].plot(kind='kde', ax=ax)\n",
    "train['popularity_median'].plot(kind='kde', ax=ax, color='red')\n",
    "lines, labels = ax.get_legend_handles_labels()\n",
    "ax.legend(lines, labels, loc='best')\n"
   ]
  },
  {
   "cell_type": "markdown",
   "metadata": {},
   "source": [
    "### acousticness"
   ]
  },
  {
   "cell_type": "code",
   "execution_count": 37,
   "metadata": {},
   "outputs": [],
   "source": [
    "median1=train.danceability.mean()\n",
    "impute_nan(train,'danceability', median1)"
   ]
  },
  {
   "cell_type": "code",
   "execution_count": 38,
   "metadata": {},
   "outputs": [
    {
     "name": "stdout",
     "output_type": "stream",
     "text": [
      "0.2150447283098581\n",
      "0.21119766178864663\n"
     ]
    }
   ],
   "source": [
    "print(train['danceability'].std())\n",
    "print(train['danceability_median'].std())"
   ]
  },
  {
   "cell_type": "code",
   "execution_count": 39,
   "metadata": {},
   "outputs": [
    {
     "data": {
      "text/plain": [
       "<matplotlib.legend.Legend at 0x170c13d9828>"
      ]
     },
     "execution_count": 39,
     "metadata": {},
     "output_type": "execute_result"
    },
    {
     "data": {
      "image/png": "[encoded data removed]",
      "text/plain": [
       "<Figure size 432x288 with 1 Axes>"
      ]
     },
     "metadata": {
      "needs_background": "light"
     },
     "output_type": "display_data"
    }
   ],
   "source": [
    "fig= plt.figure()\n",
    "ax=fig.add_subplot(111)\n",
    "train['danceability'].plot(kind='kde', ax=ax)\n",
    "train['danceability_median'].plot(kind='kde', ax=ax, color='red')\n",
    "lines, labels = ax.get_legend_handles_labels()\n",
    "ax.legend(lines, labels, loc='best')\n"
   ]
  },
  {
   "cell_type": "code",
   "execution_count": null,
   "metadata": {},
   "outputs": [],
   "source": []
  },
  {
   "cell_type": "code",
   "execution_count": null,
   "metadata": {},
   "outputs": [],
   "source": []
  },
  {
   "cell_type": "markdown",
   "metadata": {},
   "source": [
    "### duration_ms\n"
   ]
  },
  {
   "cell_type": "code",
   "execution_count": 40,
   "metadata": {},
   "outputs": [],
   "source": [
    "median2=train.duration_ms.median()\n",
    "impute_nan(train,'duration_ms', median2)"
   ]
  },
  {
   "cell_type": "code",
   "execution_count": 41,
   "metadata": {},
   "outputs": [
    {
     "name": "stdout",
     "output_type": "stream",
     "text": [
      "156831.18267040895\n",
      "156363.03040448244\n"
     ]
    }
   ],
   "source": [
    "print(train['duration_ms'].std())\n",
    "print(train['duration_ms_median'].std())"
   ]
  },
  {
   "cell_type": "code",
   "execution_count": 42,
   "metadata": {},
   "outputs": [
    {
     "data": {
      "text/plain": [
       "<matplotlib.legend.Legend at 0x170c1448be0>"
      ]
     },
     "execution_count": 42,
     "metadata": {},
     "output_type": "execute_result"
    },
    {
     "data": {
      "image/png": "[encoded data removed]",
      "text/plain": [
       "<Figure size 432x288 with 1 Axes>"
      ]
     },
     "metadata": {
      "needs_background": "light"
     },
     "output_type": "display_data"
    }
   ],
   "source": [
    "fig= plt.figure()\n",
    "ax=fig.add_subplot(111)\n",
    "train['duration_ms'].plot(kind='kde', ax=ax)\n",
    "train['duration_ms_median'].plot(kind='kde', ax=ax, color='red')\n",
    "lines, labels = ax.get_legend_handles_labels()\n",
    "ax.legend(lines, labels, loc='best')"
   ]
  },
  {
   "cell_type": "markdown",
   "metadata": {},
   "source": [
    "### energy"
   ]
  },
  {
   "cell_type": "code",
   "execution_count": 43,
   "metadata": {},
   "outputs": [],
   "source": [
    "median3=train.energy.median()\n",
    "impute_nan(train,'energy', median3)"
   ]
  },
  {
   "cell_type": "code",
   "execution_count": 44,
   "metadata": {},
   "outputs": [
    {
     "name": "stdout",
     "output_type": "stream",
     "text": [
      "0.514145061936414\n",
      "0.5127050663430495\n"
     ]
    }
   ],
   "source": [
    "print(train['energy'].std())\n",
    "print(train['energy_median'].std())"
   ]
  },
  {
   "cell_type": "code",
   "execution_count": 45,
   "metadata": {},
   "outputs": [
    {
     "data": {
      "text/plain": [
       "<matplotlib.legend.Legend at 0x170c14b89e8>"
      ]
     },
     "execution_count": 45,
     "metadata": {},
     "output_type": "execute_result"
    },
    {
     "data": {
      "image/png": "[encoded data removed]",
      "text/plain": [
       "<Figure size 432x288 with 1 Axes>"
      ]
     },
     "metadata": {
      "needs_background": "light"
     },
     "output_type": "display_data"
    }
   ],
   "source": [
    "fig= plt.figure()\n",
    "ax=fig.add_subplot(111)\n",
    "train['energy'].plot(kind='kde', ax=ax)\n",
    "train['energy_median'].plot(kind='kde', ax=ax, color='red')\n",
    "lines, labels = ax.get_legend_handles_labels()\n",
    "ax.legend(lines, labels, loc='best')"
   ]
  },
  {
   "cell_type": "code",
   "execution_count": 46,
   "metadata": {},
   "outputs": [
    {
     "data": {
      "text/plain": [
       "0"
      ]
     },
     "execution_count": 46,
     "metadata": {},
     "output_type": "execute_result"
    }
   ],
   "source": [
    "train['energy_median'].isnull().sum()"
   ]
  },
  {
   "cell_type": "code",
   "execution_count": 47,
   "metadata": {},
   "outputs": [],
   "source": [
    "median4=train.instrumentalness.median()\n",
    "impute_nan(train,'instrumentalness', median4)"
   ]
  },
  {
   "cell_type": "code",
   "execution_count": 48,
   "metadata": {},
   "outputs": [
    {
     "name": "stdout",
     "output_type": "stream",
     "text": [
      "0.3957879211677597\n",
      "0.395116870505016\n"
     ]
    }
   ],
   "source": [
    "print(train['instrumentalness'].std())\n",
    "print(train['instrumentalness_median'].std())"
   ]
  },
  {
   "cell_type": "code",
   "execution_count": 49,
   "metadata": {},
   "outputs": [
    {
     "data": {
      "text/plain": [
       "<matplotlib.legend.Legend at 0x170c1541b70>"
      ]
     },
     "execution_count": 49,
     "metadata": {},
     "output_type": "execute_result"
    },
    {
     "data": {
      "image/png": "[encoded data removed]",
      "text/plain": [
       "<Figure size 432x288 with 1 Axes>"
      ]
     },
     "metadata": {
      "needs_background": "light"
     },
     "output_type": "display_data"
    }
   ],
   "source": [
    "fig= plt.figure()\n",
    "ax=fig.add_subplot(111)\n",
    "train['instrumentalness'].plot(kind='kde', ax=ax)\n",
    "train['instrumentalness_median'].plot(kind='kde', ax=ax, color='red')\n",
    "lines, labels = ax.get_legend_handles_labels()\n",
    "ax.legend(lines, labels, loc='best')"
   ]
  },
  {
   "cell_type": "markdown",
   "metadata": {},
   "source": [
    "### loudness"
   ]
  },
  {
   "cell_type": "code",
   "execution_count": 50,
   "metadata": {},
   "outputs": [],
   "source": [
    "median5=train.loudness.median()\n",
    "impute_nan(train,'loudness', median5)"
   ]
  },
  {
   "cell_type": "code",
   "execution_count": 51,
   "metadata": {},
   "outputs": [
    {
     "name": "stdout",
     "output_type": "stream",
     "text": [
      "8.66336389155123\n",
      "8.65461243176165\n"
     ]
    }
   ],
   "source": [
    "print(train['loudness'].std())\n",
    "print(train['loudness_median'].std())"
   ]
  },
  {
   "cell_type": "code",
   "execution_count": 52,
   "metadata": {},
   "outputs": [
    {
     "data": {
      "text/plain": [
       "<matplotlib.legend.Legend at 0x170c15680b8>"
      ]
     },
     "execution_count": 52,
     "metadata": {},
     "output_type": "execute_result"
    },
    {
     "data": {
      "image/png": "[encoded data removed]",
      "text/plain": [
       "<Figure size 432x288 with 1 Axes>"
      ]
     },
     "metadata": {
      "needs_background": "light"
     },
     "output_type": "display_data"
    }
   ],
   "source": [
    "fig= plt.figure()\n",
    "ax=fig.add_subplot(111)\n",
    "train['loudness'].plot(kind='kde', ax=ax)\n",
    "train['loudness_median'].plot(kind='kde', ax=ax, color='red')\n",
    "lines, labels = ax.get_legend_handles_labels()\n",
    "ax.legend(lines, labels, loc='best')"
   ]
  },
  {
   "cell_type": "code",
   "execution_count": null,
   "metadata": {},
   "outputs": [],
   "source": [
    "### speechiness"
   ]
  },
  {
   "cell_type": "code",
   "execution_count": 53,
   "metadata": {},
   "outputs": [],
   "source": [
    "median6=train.speechiness.median()\n",
    "impute_nan(train,'speechiness', median6)"
   ]
  },
  {
   "cell_type": "code",
   "execution_count": 54,
   "metadata": {},
   "outputs": [
    {
     "name": "stdout",
     "output_type": "stream",
     "text": [
      "0.10564670633720295\n",
      "0.10557566062851564\n"
     ]
    }
   ],
   "source": [
    "print(train['speechiness'].std())\n",
    "print(train['speechiness_median'].std())"
   ]
  },
  {
   "cell_type": "code",
   "execution_count": 55,
   "metadata": {},
   "outputs": [
    {
     "data": {
      "text/plain": [
       "<matplotlib.legend.Legend at 0x170c1600be0>"
      ]
     },
     "execution_count": 55,
     "metadata": {},
     "output_type": "execute_result"
    },
    {
     "data": {
      "image/png": "[encoded data removed]",
      "text/plain": [
       "<Figure size 432x288 with 1 Axes>"
      ]
     },
     "metadata": {
      "needs_background": "light"
     },
     "output_type": "display_data"
    }
   ],
   "source": [
    "fig= plt.figure()\n",
    "ax=fig.add_subplot(111)\n",
    "train['speechiness'].plot(kind='kde', ax=ax)\n",
    "train['speechiness_median'].plot(kind='kde', ax=ax, color='red')\n",
    "lines, labels = ax.get_legend_handles_labels()\n",
    "ax.legend(lines, labels, loc='best')"
   ]
  },
  {
   "cell_type": "code",
   "execution_count": null,
   "metadata": {},
   "outputs": [],
   "source": []
  },
  {
   "cell_type": "code",
   "execution_count": 56,
   "metadata": {},
   "outputs": [],
   "source": [
    "median7=train.valence.median()\n",
    "impute_nan(train,'valence', median7)"
   ]
  },
  {
   "cell_type": "code",
   "execution_count": 57,
   "metadata": {},
   "outputs": [
    {
     "name": "stdout",
     "output_type": "stream",
     "text": [
      "0.2772195966342224\n",
      "0.27119621921074333\n"
     ]
    }
   ],
   "source": [
    "print(train['valence'].std())\n",
    "print(train['valence_median'].std())"
   ]
  },
  {
   "cell_type": "code",
   "execution_count": 58,
   "metadata": {},
   "outputs": [
    {
     "data": {
      "text/plain": [
       "<matplotlib.legend.Legend at 0x170c167e128>"
      ]
     },
     "execution_count": 58,
     "metadata": {},
     "output_type": "execute_result"
    },
    {
     "data": {
      "image/png": "[encoded data removed]",
      "text/plain": [
       "<Figure size 432x288 with 1 Axes>"
      ]
     },
     "metadata": {
      "needs_background": "light"
     },
     "output_type": "display_data"
    }
   ],
   "source": [
    "fig= plt.figure()\n",
    "ax=fig.add_subplot(111)\n",
    "train['valence'].plot(kind='kde', ax=ax)\n",
    "train['valence_median'].plot(kind='kde', ax=ax, color='red')\n",
    "lines, labels = ax.get_legend_handles_labels()\n",
    "ax.legend(lines, labels, loc='best')"
   ]
  },
  {
   "cell_type": "code",
   "execution_count": 61,
   "metadata": {},
   "outputs": [
    {
     "data": {
      "text/html": [
       "<div>\n",
       "<style scoped>\n",
       "    .dataframe tbody tr th:only-of-type {\n",
       "        vertical-align: middle;\n",
       "    }\n",
       "\n",
       "    .dataframe tbody tr th {\n",
       "        vertical-align: top;\n",
       "    }\n",
       "\n",
       "    .dataframe thead th {\n",
       "        text-align: right;\n",
       "    }\n",
       "</style>\n",
       "<table border=\"1\" class=\"dataframe\">\n",
       "  <thead>\n",
       "    <tr style=\"text-align: right;\">\n",
       "      <th></th>\n",
       "      <th>acousticness</th>\n",
       "      <th>liveness</th>\n",
       "      <th>mode</th>\n",
       "      <th>speechiness</th>\n",
       "      <th>tempo</th>\n",
       "      <th>musician_category</th>\n",
       "      <th>music_genre</th>\n",
       "      <th>Encoded_key</th>\n",
       "      <th>voice_gender_Imputed</th>\n",
       "      <th>Encoded_voice_gender_Imputed</th>\n",
       "      <th>popularity_median</th>\n",
       "      <th>danceability_median</th>\n",
       "      <th>duration_ms_median</th>\n",
       "      <th>energy_median</th>\n",
       "      <th>instrumentalness_median</th>\n",
       "      <th>loudness_median</th>\n",
       "      <th>speechiness_median</th>\n",
       "      <th>valence_median</th>\n",
       "    </tr>\n",
       "  </thead>\n",
       "  <tbody>\n",
       "    <tr>\n",
       "      <th>0</th>\n",
       "      <td>0.970522</td>\n",
       "      <td>0.147134</td>\n",
       "      <td>Major</td>\n",
       "      <td>0.046404</td>\n",
       "      <td>143.78799999999998</td>\n",
       "      <td>Band</td>\n",
       "      <td>Jazz</td>\n",
       "      <td>1210</td>\n",
       "      <td>F</td>\n",
       "      <td>5815</td>\n",
       "      <td>49.178</td>\n",
       "      <td>0.580508</td>\n",
       "      <td>214625.776</td>\n",
       "      <td>0.192107</td>\n",
       "      <td>0.000000</td>\n",
       "      <td>-14.140</td>\n",
       "      <td>0.046404</td>\n",
       "      <td>0.598965</td>\n",
       "    </tr>\n",
       "    <tr>\n",
       "      <th>1</th>\n",
       "      <td>1.009380</td>\n",
       "      <td>0.174655</td>\n",
       "      <td>?</td>\n",
       "      <td>0.039949</td>\n",
       "      <td>?</td>\n",
       "      <td>Band</td>\n",
       "      <td>Jazz</td>\n",
       "      <td>1479</td>\n",
       "      <td>M</td>\n",
       "      <td>4953</td>\n",
       "      <td>59.827</td>\n",
       "      <td>0.687542</td>\n",
       "      <td>216232.195</td>\n",
       "      <td>0.265942</td>\n",
       "      <td>0.000031</td>\n",
       "      <td>-13.716</td>\n",
       "      <td>0.039949</td>\n",
       "      <td>0.357194</td>\n",
       "    </tr>\n",
       "    <tr>\n",
       "      <th>2</th>\n",
       "      <td>0.020041</td>\n",
       "      <td>0.042030</td>\n",
       "      <td>Major</td>\n",
       "      <td>0.119917</td>\n",
       "      <td>105.01799999999999</td>\n",
       "      <td>Band</td>\n",
       "      <td>Rap</td>\n",
       "      <td>1695</td>\n",
       "      <td>F</td>\n",
       "      <td>5815</td>\n",
       "      <td>89.023</td>\n",
       "      <td>0.967948</td>\n",
       "      <td>273314.723</td>\n",
       "      <td>0.857411</td>\n",
       "      <td>0.000000</td>\n",
       "      <td>-4.995</td>\n",
       "      <td>0.119917</td>\n",
       "      <td>0.635525</td>\n",
       "    </tr>\n",
       "    <tr>\n",
       "      <th>3</th>\n",
       "      <td>0.010284</td>\n",
       "      <td>0.124637</td>\n",
       "      <td>Major</td>\n",
       "      <td>0.167493</td>\n",
       "      <td>?</td>\n",
       "      <td>Duet</td>\n",
       "      <td>Rock</td>\n",
       "      <td>1695</td>\n",
       "      <td>B</td>\n",
       "      <td>4913</td>\n",
       "      <td>55.762</td>\n",
       "      <td>0.616287</td>\n",
       "      <td>189189.605</td>\n",
       "      <td>0.970513</td>\n",
       "      <td>0.000220</td>\n",
       "      <td>-4.262</td>\n",
       "      <td>0.167493</td>\n",
       "      <td>0.983750</td>\n",
       "    </tr>\n",
       "    <tr>\n",
       "      <th>4</th>\n",
       "      <td>0.858769</td>\n",
       "      <td>0.134782</td>\n",
       "      <td>Minor</td>\n",
       "      <td>0.039139</td>\n",
       "      <td>112.18299999999999</td>\n",
       "      <td>Band</td>\n",
       "      <td>Classical</td>\n",
       "      <td>916</td>\n",
       "      <td>F</td>\n",
       "      <td>5815</td>\n",
       "      <td>45.095</td>\n",
       "      <td>0.280645</td>\n",
       "      <td>410136.987</td>\n",
       "      <td>0.114732</td>\n",
       "      <td>0.002753</td>\n",
       "      <td>-26.922</td>\n",
       "      <td>0.039139</td>\n",
       "      <td>0.074412</td>\n",
       "    </tr>\n",
       "  </tbody>\n",
       "</table>\n",
       "</div>"
      ],
      "text/plain": [
       "   acousticness  liveness   mode  speechiness               tempo  \\\n",
       "0      0.970522  0.147134  Major     0.046404  143.78799999999998   \n",
       "1      1.009380  0.174655      ?     0.039949                   ?   \n",
       "2      0.020041  0.042030  Major     0.119917  105.01799999999999   \n",
       "3      0.010284  0.124637  Major     0.167493                   ?   \n",
       "4      0.858769  0.134782  Minor     0.039139  112.18299999999999   \n",
       "\n",
       "  musician_category music_genre  Encoded_key voice_gender_Imputed  \\\n",
       "0              Band        Jazz         1210                    F   \n",
       "1              Band        Jazz         1479                    M   \n",
       "2              Band         Rap         1695                    F   \n",
       "3              Duet        Rock         1695                    B   \n",
       "4              Band   Classical          916                    F   \n",
       "\n",
       "   Encoded_voice_gender_Imputed  popularity_median  danceability_median  \\\n",
       "0                          5815             49.178             0.580508   \n",
       "1                          4953             59.827             0.687542   \n",
       "2                          5815             89.023             0.967948   \n",
       "3                          4913             55.762             0.616287   \n",
       "4                          5815             45.095             0.280645   \n",
       "\n",
       "   duration_ms_median  energy_median  instrumentalness_median  \\\n",
       "0          214625.776       0.192107                 0.000000   \n",
       "1          216232.195       0.265942                 0.000031   \n",
       "2          273314.723       0.857411                 0.000000   \n",
       "3          189189.605       0.970513                 0.000220   \n",
       "4          410136.987       0.114732                 0.002753   \n",
       "\n",
       "   loudness_median  speechiness_median  valence_median  \n",
       "0          -14.140            0.046404        0.598965  \n",
       "1          -13.716            0.039949        0.357194  \n",
       "2           -4.995            0.119917        0.635525  \n",
       "3           -4.262            0.167493        0.983750  \n",
       "4          -26.922            0.039139        0.074412  "
      ]
     },
     "execution_count": 61,
     "metadata": {},
     "output_type": "execute_result"
    }
   ],
   "source": [
    "train.head()"
   ]
  },
  {
   "cell_type": "code",
   "execution_count": 60,
   "metadata": {},
   "outputs": [],
   "source": [
    "train.drop(['popularity','danceability','duration_ms','energy','instrumentalness','loudness','valence'], axis=1, inplace= True)"
   ]
  },
  {
   "cell_type": "code",
   "execution_count": 62,
   "metadata": {},
   "outputs": [],
   "source": [
    "train.drop(['mode','tempo','musician_category'],axis=1, inplace= True)"
   ]
  },
  {
   "cell_type": "code",
   "execution_count": 65,
   "metadata": {},
   "outputs": [
    {
     "data": {
      "text/html": [
       "<div>\n",
       "<style scoped>\n",
       "    .dataframe tbody tr th:only-of-type {\n",
       "        vertical-align: middle;\n",
       "    }\n",
       "\n",
       "    .dataframe tbody tr th {\n",
       "        vertical-align: top;\n",
       "    }\n",
       "\n",
       "    .dataframe thead th {\n",
       "        text-align: right;\n",
       "    }\n",
       "</style>\n",
       "<table border=\"1\" class=\"dataframe\">\n",
       "  <thead>\n",
       "    <tr style=\"text-align: right;\">\n",
       "      <th></th>\n",
       "      <th>acousticness</th>\n",
       "      <th>liveness</th>\n",
       "      <th>speechiness</th>\n",
       "      <th>music_genre</th>\n",
       "      <th>Encoded_key</th>\n",
       "      <th>Encoded_voice_gender_Imputed</th>\n",
       "      <th>popularity_median</th>\n",
       "      <th>danceability_median</th>\n",
       "      <th>duration_ms_median</th>\n",
       "      <th>energy_median</th>\n",
       "      <th>instrumentalness_median</th>\n",
       "      <th>loudness_median</th>\n",
       "      <th>speechiness_median</th>\n",
       "      <th>valence_median</th>\n",
       "    </tr>\n",
       "  </thead>\n",
       "  <tbody>\n",
       "    <tr>\n",
       "      <th>0</th>\n",
       "      <td>0.970522</td>\n",
       "      <td>0.147134</td>\n",
       "      <td>0.046404</td>\n",
       "      <td>Jazz</td>\n",
       "      <td>1210</td>\n",
       "      <td>5815</td>\n",
       "      <td>49.178</td>\n",
       "      <td>0.580508</td>\n",
       "      <td>214625.776</td>\n",
       "      <td>0.192107</td>\n",
       "      <td>0.000000</td>\n",
       "      <td>-14.140</td>\n",
       "      <td>0.046404</td>\n",
       "      <td>0.598965</td>\n",
       "    </tr>\n",
       "    <tr>\n",
       "      <th>1</th>\n",
       "      <td>1.009380</td>\n",
       "      <td>0.174655</td>\n",
       "      <td>0.039949</td>\n",
       "      <td>Jazz</td>\n",
       "      <td>1479</td>\n",
       "      <td>4953</td>\n",
       "      <td>59.827</td>\n",
       "      <td>0.687542</td>\n",
       "      <td>216232.195</td>\n",
       "      <td>0.265942</td>\n",
       "      <td>0.000031</td>\n",
       "      <td>-13.716</td>\n",
       "      <td>0.039949</td>\n",
       "      <td>0.357194</td>\n",
       "    </tr>\n",
       "    <tr>\n",
       "      <th>2</th>\n",
       "      <td>0.020041</td>\n",
       "      <td>0.042030</td>\n",
       "      <td>0.119917</td>\n",
       "      <td>Rap</td>\n",
       "      <td>1695</td>\n",
       "      <td>5815</td>\n",
       "      <td>89.023</td>\n",
       "      <td>0.967948</td>\n",
       "      <td>273314.723</td>\n",
       "      <td>0.857411</td>\n",
       "      <td>0.000000</td>\n",
       "      <td>-4.995</td>\n",
       "      <td>0.119917</td>\n",
       "      <td>0.635525</td>\n",
       "    </tr>\n",
       "    <tr>\n",
       "      <th>3</th>\n",
       "      <td>0.010284</td>\n",
       "      <td>0.124637</td>\n",
       "      <td>0.167493</td>\n",
       "      <td>Rock</td>\n",
       "      <td>1695</td>\n",
       "      <td>4913</td>\n",
       "      <td>55.762</td>\n",
       "      <td>0.616287</td>\n",
       "      <td>189189.605</td>\n",
       "      <td>0.970513</td>\n",
       "      <td>0.000220</td>\n",
       "      <td>-4.262</td>\n",
       "      <td>0.167493</td>\n",
       "      <td>0.983750</td>\n",
       "    </tr>\n",
       "    <tr>\n",
       "      <th>4</th>\n",
       "      <td>0.858769</td>\n",
       "      <td>0.134782</td>\n",
       "      <td>0.039139</td>\n",
       "      <td>Classical</td>\n",
       "      <td>916</td>\n",
       "      <td>5815</td>\n",
       "      <td>45.095</td>\n",
       "      <td>0.280645</td>\n",
       "      <td>410136.987</td>\n",
       "      <td>0.114732</td>\n",
       "      <td>0.002753</td>\n",
       "      <td>-26.922</td>\n",
       "      <td>0.039139</td>\n",
       "      <td>0.074412</td>\n",
       "    </tr>\n",
       "    <tr>\n",
       "      <th>5</th>\n",
       "      <td>1.047458</td>\n",
       "      <td>0.161042</td>\n",
       "      <td>0.043902</td>\n",
       "      <td>Classical</td>\n",
       "      <td>1023</td>\n",
       "      <td>5815</td>\n",
       "      <td>54.109</td>\n",
       "      <td>0.436620</td>\n",
       "      <td>149956.385</td>\n",
       "      <td>0.015206</td>\n",
       "      <td>0.960473</td>\n",
       "      <td>-28.116</td>\n",
       "      <td>0.043902</td>\n",
       "      <td>0.156638</td>\n",
       "    </tr>\n",
       "    <tr>\n",
       "      <th>6</th>\n",
       "      <td>0.000459</td>\n",
       "      <td>0.079220</td>\n",
       "      <td>0.052014</td>\n",
       "      <td>Rap</td>\n",
       "      <td>1633</td>\n",
       "      <td>4953</td>\n",
       "      <td>64.265</td>\n",
       "      <td>0.968723</td>\n",
       "      <td>203145.857</td>\n",
       "      <td>-1.000000</td>\n",
       "      <td>0.000384</td>\n",
       "      <td>-7.266</td>\n",
       "      <td>0.052014</td>\n",
       "      <td>0.484246</td>\n",
       "    </tr>\n",
       "    <tr>\n",
       "      <th>7</th>\n",
       "      <td>0.086018</td>\n",
       "      <td>0.168890</td>\n",
       "      <td>0.039190</td>\n",
       "      <td>Rock</td>\n",
       "      <td>1479</td>\n",
       "      <td>5815</td>\n",
       "      <td>60.375</td>\n",
       "      <td>0.621977</td>\n",
       "      <td>248135.177</td>\n",
       "      <td>0.420478</td>\n",
       "      <td>0.075501</td>\n",
       "      <td>-16.505</td>\n",
       "      <td>0.039190</td>\n",
       "      <td>0.432478</td>\n",
       "    </tr>\n",
       "    <tr>\n",
       "      <th>8</th>\n",
       "      <td>0.090830</td>\n",
       "      <td>0.089873</td>\n",
       "      <td>0.070437</td>\n",
       "      <td>Rock</td>\n",
       "      <td>1479</td>\n",
       "      <td>4913</td>\n",
       "      <td>73.420</td>\n",
       "      <td>0.380147</td>\n",
       "      <td>275490.630</td>\n",
       "      <td>0.714246</td>\n",
       "      <td>0.000000</td>\n",
       "      <td>-5.972</td>\n",
       "      <td>0.070437</td>\n",
       "      <td>0.555169</td>\n",
       "    </tr>\n",
       "    <tr>\n",
       "      <th>9</th>\n",
       "      <td>1.014646</td>\n",
       "      <td>0.110850</td>\n",
       "      <td>0.065935</td>\n",
       "      <td>Jazz</td>\n",
       "      <td>1142</td>\n",
       "      <td>4913</td>\n",
       "      <td>34.034</td>\n",
       "      <td>0.672051</td>\n",
       "      <td>207299.190</td>\n",
       "      <td>0.048039</td>\n",
       "      <td>0.146346</td>\n",
       "      <td>-27.213</td>\n",
       "      <td>0.065935</td>\n",
       "      <td>0.590628</td>\n",
       "    </tr>\n",
       "  </tbody>\n",
       "</table>\n",
       "</div>"
      ],
      "text/plain": [
       "   acousticness  liveness  speechiness music_genre  Encoded_key  \\\n",
       "0      0.970522  0.147134     0.046404        Jazz         1210   \n",
       "1      1.009380  0.174655     0.039949        Jazz         1479   \n",
       "2      0.020041  0.042030     0.119917         Rap         1695   \n",
       "3      0.010284  0.124637     0.167493        Rock         1695   \n",
       "4      0.858769  0.134782     0.039139   Classical          916   \n",
       "5      1.047458  0.161042     0.043902   Classical         1023   \n",
       "6      0.000459  0.079220     0.052014         Rap         1633   \n",
       "7      0.086018  0.168890     0.039190        Rock         1479   \n",
       "8      0.090830  0.089873     0.070437        Rock         1479   \n",
       "9      1.014646  0.110850     0.065935        Jazz         1142   \n",
       "\n",
       "   Encoded_voice_gender_Imputed  popularity_median  danceability_median  \\\n",
       "0                          5815             49.178             0.580508   \n",
       "1                          4953             59.827             0.687542   \n",
       "2                          5815             89.023             0.967948   \n",
       "3                          4913             55.762             0.616287   \n",
       "4                          5815             45.095             0.280645   \n",
       "5                          5815             54.109             0.436620   \n",
       "6                          4953             64.265             0.968723   \n",
       "7                          5815             60.375             0.621977   \n",
       "8                          4913             73.420             0.380147   \n",
       "9                          4913             34.034             0.672051   \n",
       "\n",
       "   duration_ms_median  energy_median  instrumentalness_median  \\\n",
       "0          214625.776       0.192107                 0.000000   \n",
       "1          216232.195       0.265942                 0.000031   \n",
       "2          273314.723       0.857411                 0.000000   \n",
       "3          189189.605       0.970513                 0.000220   \n",
       "4          410136.987       0.114732                 0.002753   \n",
       "5          149956.385       0.015206                 0.960473   \n",
       "6          203145.857      -1.000000                 0.000384   \n",
       "7          248135.177       0.420478                 0.075501   \n",
       "8          275490.630       0.714246                 0.000000   \n",
       "9          207299.190       0.048039                 0.146346   \n",
       "\n",
       "   loudness_median  speechiness_median  valence_median  \n",
       "0          -14.140            0.046404        0.598965  \n",
       "1          -13.716            0.039949        0.357194  \n",
       "2           -4.995            0.119917        0.635525  \n",
       "3           -4.262            0.167493        0.983750  \n",
       "4          -26.922            0.039139        0.074412  \n",
       "5          -28.116            0.043902        0.156638  \n",
       "6           -7.266            0.052014        0.484246  \n",
       "7          -16.505            0.039190        0.432478  \n",
       "8           -5.972            0.070437        0.555169  \n",
       "9          -27.213            0.065935        0.590628  "
      ]
     },
     "execution_count": 65,
     "metadata": {},
     "output_type": "execute_result"
    }
   ],
   "source": [
    "train.head(10)"
   ]
  },
  {
   "cell_type": "code",
   "execution_count": 64,
   "metadata": {},
   "outputs": [],
   "source": [
    "train.drop(['voice_gender_Imputed'],axis=1, inplace= True)"
   ]
  },
  {
   "cell_type": "code",
   "execution_count": 66,
   "metadata": {},
   "outputs": [
    {
     "data": {
      "text/plain": [
       "array(['Jazz', 'Rap', 'Rock', 'Classical', 'Electronic', 'Country',\n",
       "       'Hip-Hop'], dtype=object)"
      ]
     },
     "execution_count": 66,
     "metadata": {},
     "output_type": "execute_result"
    }
   ],
   "source": [
    "train['music_genre'].unique()"
   ]
  },
  {
   "cell_type": "code",
   "execution_count": 67,
   "metadata": {},
   "outputs": [],
   "source": [
    "datamapping={'Jazz':0, 'Rap':1, 'Rock':2, 'Classical':3, 'Electronic':4, 'Country':5,\n",
    "       'Hip-Hop':6\n",
    "    \n",
    "}"
   ]
  },
  {
   "cell_type": "code",
   "execution_count": 68,
   "metadata": {},
   "outputs": [],
   "source": [
    "train['music_genre']=train['music_genre'].map(datamapping)"
   ]
  },
  {
   "cell_type": "code",
   "execution_count": 69,
   "metadata": {},
   "outputs": [
    {
     "data": {
      "text/html": [
       "<div>\n",
       "<style scoped>\n",
       "    .dataframe tbody tr th:only-of-type {\n",
       "        vertical-align: middle;\n",
       "    }\n",
       "\n",
       "    .dataframe tbody tr th {\n",
       "        vertical-align: top;\n",
       "    }\n",
       "\n",
       "    .dataframe thead th {\n",
       "        text-align: right;\n",
       "    }\n",
       "</style>\n",
       "<table border=\"1\" class=\"dataframe\">\n",
       "  <thead>\n",
       "    <tr style=\"text-align: right;\">\n",
       "      <th></th>\n",
       "      <th>acousticness</th>\n",
       "      <th>liveness</th>\n",
       "      <th>speechiness</th>\n",
       "      <th>music_genre</th>\n",
       "      <th>Encoded_key</th>\n",
       "      <th>Encoded_voice_gender_Imputed</th>\n",
       "      <th>popularity_median</th>\n",
       "      <th>danceability_median</th>\n",
       "      <th>duration_ms_median</th>\n",
       "      <th>energy_median</th>\n",
       "      <th>instrumentalness_median</th>\n",
       "      <th>loudness_median</th>\n",
       "      <th>speechiness_median</th>\n",
       "      <th>valence_median</th>\n",
       "    </tr>\n",
       "  </thead>\n",
       "  <tbody>\n",
       "    <tr>\n",
       "      <th>0</th>\n",
       "      <td>0.970522</td>\n",
       "      <td>0.147134</td>\n",
       "      <td>0.046404</td>\n",
       "      <td>0</td>\n",
       "      <td>1210</td>\n",
       "      <td>5815</td>\n",
       "      <td>49.178</td>\n",
       "      <td>0.580508</td>\n",
       "      <td>214625.776</td>\n",
       "      <td>0.192107</td>\n",
       "      <td>0.000000</td>\n",
       "      <td>-14.140</td>\n",
       "      <td>0.046404</td>\n",
       "      <td>0.598965</td>\n",
       "    </tr>\n",
       "    <tr>\n",
       "      <th>1</th>\n",
       "      <td>1.009380</td>\n",
       "      <td>0.174655</td>\n",
       "      <td>0.039949</td>\n",
       "      <td>0</td>\n",
       "      <td>1479</td>\n",
       "      <td>4953</td>\n",
       "      <td>59.827</td>\n",
       "      <td>0.687542</td>\n",
       "      <td>216232.195</td>\n",
       "      <td>0.265942</td>\n",
       "      <td>0.000031</td>\n",
       "      <td>-13.716</td>\n",
       "      <td>0.039949</td>\n",
       "      <td>0.357194</td>\n",
       "    </tr>\n",
       "    <tr>\n",
       "      <th>2</th>\n",
       "      <td>0.020041</td>\n",
       "      <td>0.042030</td>\n",
       "      <td>0.119917</td>\n",
       "      <td>1</td>\n",
       "      <td>1695</td>\n",
       "      <td>5815</td>\n",
       "      <td>89.023</td>\n",
       "      <td>0.967948</td>\n",
       "      <td>273314.723</td>\n",
       "      <td>0.857411</td>\n",
       "      <td>0.000000</td>\n",
       "      <td>-4.995</td>\n",
       "      <td>0.119917</td>\n",
       "      <td>0.635525</td>\n",
       "    </tr>\n",
       "    <tr>\n",
       "      <th>3</th>\n",
       "      <td>0.010284</td>\n",
       "      <td>0.124637</td>\n",
       "      <td>0.167493</td>\n",
       "      <td>2</td>\n",
       "      <td>1695</td>\n",
       "      <td>4913</td>\n",
       "      <td>55.762</td>\n",
       "      <td>0.616287</td>\n",
       "      <td>189189.605</td>\n",
       "      <td>0.970513</td>\n",
       "      <td>0.000220</td>\n",
       "      <td>-4.262</td>\n",
       "      <td>0.167493</td>\n",
       "      <td>0.983750</td>\n",
       "    </tr>\n",
       "    <tr>\n",
       "      <th>4</th>\n",
       "      <td>0.858769</td>\n",
       "      <td>0.134782</td>\n",
       "      <td>0.039139</td>\n",
       "      <td>3</td>\n",
       "      <td>916</td>\n",
       "      <td>5815</td>\n",
       "      <td>45.095</td>\n",
       "      <td>0.280645</td>\n",
       "      <td>410136.987</td>\n",
       "      <td>0.114732</td>\n",
       "      <td>0.002753</td>\n",
       "      <td>-26.922</td>\n",
       "      <td>0.039139</td>\n",
       "      <td>0.074412</td>\n",
       "    </tr>\n",
       "  </tbody>\n",
       "</table>\n",
       "</div>"
      ],
      "text/plain": [
       "   acousticness  liveness  speechiness  music_genre  Encoded_key  \\\n",
       "0      0.970522  0.147134     0.046404            0         1210   \n",
       "1      1.009380  0.174655     0.039949            0         1479   \n",
       "2      0.020041  0.042030     0.119917            1         1695   \n",
       "3      0.010284  0.124637     0.167493            2         1695   \n",
       "4      0.858769  0.134782     0.039139            3          916   \n",
       "\n",
       "   Encoded_voice_gender_Imputed  popularity_median  danceability_median  \\\n",
       "0                          5815             49.178             0.580508   \n",
       "1                          4953             59.827             0.687542   \n",
       "2                          5815             89.023             0.967948   \n",
       "3                          4913             55.762             0.616287   \n",
       "4                          5815             45.095             0.280645   \n",
       "\n",
       "   duration_ms_median  energy_median  instrumentalness_median  \\\n",
       "0          214625.776       0.192107                 0.000000   \n",
       "1          216232.195       0.265942                 0.000031   \n",
       "2          273314.723       0.857411                 0.000000   \n",
       "3          189189.605       0.970513                 0.000220   \n",
       "4          410136.987       0.114732                 0.002753   \n",
       "\n",
       "   loudness_median  speechiness_median  valence_median  \n",
       "0          -14.140            0.046404        0.598965  \n",
       "1          -13.716            0.039949        0.357194  \n",
       "2           -4.995            0.119917        0.635525  \n",
       "3           -4.262            0.167493        0.983750  \n",
       "4          -26.922            0.039139        0.074412  "
      ]
     },
     "execution_count": 69,
     "metadata": {},
     "output_type": "execute_result"
    }
   ],
   "source": [
    "train.head()"
   ]
  },
  {
   "cell_type": "code",
   "execution_count": 76,
   "metadata": {},
   "outputs": [
    {
     "data": {
      "text/plain": [
       "acousticness                     0\n",
       "liveness                         0\n",
       "speechiness                     26\n",
       "Encoded_key                      0\n",
       "Encoded_voice_gender_Imputed     0\n",
       "popularity_median                0\n",
       "danceability_median              0\n",
       "duration_ms_median               0\n",
       "energy_median                    0\n",
       "instrumentalness_median          0\n",
       "loudness_median                  0\n",
       "speechiness_median               0\n",
       "valence_median                   0\n",
       "dtype: int64"
      ]
     },
     "execution_count": 76,
     "metadata": {},
     "output_type": "execute_result"
    }
   ],
   "source": [
    "train.isnull().sum()"
   ]
  },
  {
   "cell_type": "code",
   "execution_count": 70,
   "metadata": {},
   "outputs": [],
   "source": [
    "y=train.loc[:,'music_genre'].values"
   ]
  },
  {
   "cell_type": "code",
   "execution_count": 71,
   "metadata": {},
   "outputs": [],
   "source": [
    "train.drop(['music_genre'],axis=1, inplace= True)"
   ]
  },
  {
   "cell_type": "code",
   "execution_count": 77,
   "metadata": {},
   "outputs": [],
   "source": [
    "train.drop(['speechiness'],axis=1, inplace= True)"
   ]
  },
  {
   "cell_type": "code",
   "execution_count": 78,
   "metadata": {},
   "outputs": [],
   "source": [
    "X=train.iloc[:,:].values"
   ]
  },
  {
   "cell_type": "code",
   "execution_count": 79,
   "metadata": {},
   "outputs": [],
   "source": [
    "from sklearn.model_selection import train_test_split\n",
    "\n",
    "X_train, X_test, y_train, y_test = train_test_split(X, y, test_size=0.2, random_state=0)"
   ]
  },
  {
   "cell_type": "code",
   "execution_count": 80,
   "metadata": {},
   "outputs": [],
   "source": [
    "from sklearn.preprocessing import StandardScaler\n",
    "\n",
    "sc = StandardScaler()\n",
    "X_train = sc.fit_transform(X_train)\n",
    "X_test = sc.transform(X_test)"
   ]
  },
  {
   "cell_type": "code",
   "execution_count": 81,
   "metadata": {},
   "outputs": [],
   "source": [
    "from sklearn.ensemble import RandomForestClassifier\n",
    "\n",
    "rfc = RandomForestClassifier(n_estimators=100)\n",
    "rfc.fit(X_train, y_train)\n",
    "y_pred = rfc.predict(X_test)\n"
   ]
  },
  {
   "cell_type": "code",
   "execution_count": 82,
   "metadata": {},
   "outputs": [
    {
     "name": "stdout",
     "output_type": "stream",
     "text": [
      "[[460  18  45  48  13   9   0]\n",
      " [  6 510 114   0   1   0   7]\n",
      " [ 21  63 650   3   0   7   1]\n",
      " [ 49   0  11 728   7   2   0]\n",
      " [ 49   9  11   3  46   2   0]\n",
      " [ 38   2  51   3   2  59   0]\n",
      " [  6  70  10   0   2   1   0]]\n",
      "              precision    recall  f1-score   support\n",
      "\n",
      "           0       0.73      0.78      0.75       593\n",
      "           1       0.76      0.80      0.78       638\n",
      "           2       0.73      0.87      0.79       745\n",
      "           3       0.93      0.91      0.92       797\n",
      "           4       0.65      0.38      0.48       120\n",
      "           5       0.74      0.38      0.50       155\n",
      "           6       0.00      0.00      0.00        89\n",
      "\n",
      "    accuracy                           0.78      3137\n",
      "   macro avg       0.65      0.59      0.60      3137\n",
      "weighted avg       0.76      0.78      0.77      3137\n",
      "\n",
      "0.7819572840293274\n"
     ]
    }
   ],
   "source": [
    "from sklearn.metrics import classification_report, confusion_matrix, accuracy_score\n",
    "\n",
    "\n",
    "print(confusion_matrix(y_test,y_pred))\n",
    "print(classification_report(y_test,y_pred))\n",
    "print(accuracy_score(y_test, y_pred))"
   ]
  },
  {
   "cell_type": "code",
   "execution_count": 83,
   "metadata": {},
   "outputs": [],
   "source": [
    "test= pd.read_csv(r'C:\\Users\\HP\\Downloads\\elli lilly\\dataset\\test.csv')"
   ]
  },
  {
   "cell_type": "code",
   "execution_count": 84,
   "metadata": {},
   "outputs": [
    {
     "data": {
      "text/html": [
       "<div>\n",
       "<style scoped>\n",
       "    .dataframe tbody tr th:only-of-type {\n",
       "        vertical-align: middle;\n",
       "    }\n",
       "\n",
       "    .dataframe tbody tr th {\n",
       "        vertical-align: top;\n",
       "    }\n",
       "\n",
       "    .dataframe thead th {\n",
       "        text-align: right;\n",
       "    }\n",
       "</style>\n",
       "<table border=\"1\" class=\"dataframe\">\n",
       "  <thead>\n",
       "    <tr style=\"text-align: right;\">\n",
       "      <th></th>\n",
       "      <th>instance_id</th>\n",
       "      <th>track_name</th>\n",
       "      <th>popularity</th>\n",
       "      <th>acousticness</th>\n",
       "      <th>danceability</th>\n",
       "      <th>duration_ms</th>\n",
       "      <th>energy</th>\n",
       "      <th>instrumentalness</th>\n",
       "      <th>key</th>\n",
       "      <th>liveness</th>\n",
       "      <th>loudness</th>\n",
       "      <th>voice_gender</th>\n",
       "      <th>mode</th>\n",
       "      <th>speechiness</th>\n",
       "      <th>tempo</th>\n",
       "      <th>musician_category</th>\n",
       "      <th>valence</th>\n",
       "    </tr>\n",
       "  </thead>\n",
       "  <tbody>\n",
       "    <tr>\n",
       "      <th>0</th>\n",
       "      <td>MSC_70753.0</td>\n",
       "      <td>Bard, a Man of Lake-town - Extended Version</td>\n",
       "      <td>26.101</td>\n",
       "      <td>0.823765</td>\n",
       "      <td>0.115490</td>\n",
       "      <td>211462.287</td>\n",
       "      <td>0.125325</td>\n",
       "      <td>0.945272</td>\n",
       "      <td>Scale A Sharp</td>\n",
       "      <td>0.120392</td>\n",
       "      <td>-25.541</td>\n",
       "      <td>Both</td>\n",
       "      <td>Minor</td>\n",
       "      <td>0.038657</td>\n",
       "      <td>80.777</td>\n",
       "      <td>Duet</td>\n",
       "      <td>0.041238</td>\n",
       "    </tr>\n",
       "    <tr>\n",
       "      <th>1</th>\n",
       "      <td>MSC_24064.0</td>\n",
       "      <td>New Kings</td>\n",
       "      <td>66.325</td>\n",
       "      <td>0.015441</td>\n",
       "      <td>0.592838</td>\n",
       "      <td>249151.238</td>\n",
       "      <td>0.870798</td>\n",
       "      <td>0.000108</td>\n",
       "      <td>Scale E</td>\n",
       "      <td>0.406722</td>\n",
       "      <td>-3.905</td>\n",
       "      <td>Male</td>\n",
       "      <td>?</td>\n",
       "      <td>0.051368</td>\n",
       "      <td>76.00399999999999</td>\n",
       "      <td>Band</td>\n",
       "      <td>0.456309</td>\n",
       "    </tr>\n",
       "    <tr>\n",
       "      <th>2</th>\n",
       "      <td>MSC_22731.0</td>\n",
       "      <td>Silver Lining</td>\n",
       "      <td>71.871</td>\n",
       "      <td>0.001006</td>\n",
       "      <td>0.510340</td>\n",
       "      <td>215693.240</td>\n",
       "      <td>0.683077</td>\n",
       "      <td>0.000000</td>\n",
       "      <td>Scale C</td>\n",
       "      <td>0.084608</td>\n",
       "      <td>-6.825</td>\n",
       "      <td>Female</td>\n",
       "      <td>Major</td>\n",
       "      <td>0.034303</td>\n",
       "      <td>144.458</td>\n",
       "      <td>Solo</td>\n",
       "      <td>0.193332</td>\n",
       "    </tr>\n",
       "    <tr>\n",
       "      <th>3</th>\n",
       "      <td>MSC_32095.0</td>\n",
       "      <td>A Tale That Wasn't Right</td>\n",
       "      <td>56.151</td>\n",
       "      <td>0.315650</td>\n",
       "      <td>0.338336</td>\n",
       "      <td>307056.179</td>\n",
       "      <td>0.608904</td>\n",
       "      <td>0.000000</td>\n",
       "      <td>Scale A</td>\n",
       "      <td>0.276811</td>\n",
       "      <td>-8.382</td>\n",
       "      <td>Female</td>\n",
       "      <td>Minor</td>\n",
       "      <td>0.036934</td>\n",
       "      <td>118.145</td>\n",
       "      <td>Solo</td>\n",
       "      <td>0.214906</td>\n",
       "    </tr>\n",
       "    <tr>\n",
       "      <th>4</th>\n",
       "      <td>MSC_24198.0</td>\n",
       "      <td>Get Ready</td>\n",
       "      <td>43.687</td>\n",
       "      <td>0.038336</td>\n",
       "      <td>0.773904</td>\n",
       "      <td>352802.872</td>\n",
       "      <td>0.955500</td>\n",
       "      <td>0.000007</td>\n",
       "      <td>Scale D</td>\n",
       "      <td>0.301726</td>\n",
       "      <td>-4.733</td>\n",
       "      <td>Both</td>\n",
       "      <td>Major</td>\n",
       "      <td>0.079688</td>\n",
       "      <td>95.012</td>\n",
       "      <td>Duet</td>\n",
       "      <td>0.757347</td>\n",
       "    </tr>\n",
       "  </tbody>\n",
       "</table>\n",
       "</div>"
      ],
      "text/plain": [
       "   instance_id                                   track_name  popularity  \\\n",
       "0  MSC_70753.0  Bard, a Man of Lake-town - Extended Version      26.101   \n",
       "1  MSC_24064.0                                    New Kings      66.325   \n",
       "2  MSC_22731.0                                Silver Lining      71.871   \n",
       "3  MSC_32095.0                     A Tale That Wasn't Right      56.151   \n",
       "4  MSC_24198.0                                    Get Ready      43.687   \n",
       "\n",
       "   acousticness  danceability  duration_ms    energy  instrumentalness  \\\n",
       "0      0.823765      0.115490   211462.287  0.125325          0.945272   \n",
       "1      0.015441      0.592838   249151.238  0.870798          0.000108   \n",
       "2      0.001006      0.510340   215693.240  0.683077          0.000000   \n",
       "3      0.315650      0.338336   307056.179  0.608904          0.000000   \n",
       "4      0.038336      0.773904   352802.872  0.955500          0.000007   \n",
       "\n",
       "             key  liveness  loudness voice_gender   mode  speechiness  \\\n",
       "0  Scale A Sharp  0.120392   -25.541         Both  Minor     0.038657   \n",
       "1        Scale E  0.406722    -3.905         Male      ?     0.051368   \n",
       "2        Scale C  0.084608    -6.825       Female  Major     0.034303   \n",
       "3        Scale A  0.276811    -8.382       Female  Minor     0.036934   \n",
       "4        Scale D  0.301726    -4.733         Both  Major     0.079688   \n",
       "\n",
       "               tempo musician_category   valence  \n",
       "0             80.777              Duet  0.041238  \n",
       "1  76.00399999999999              Band  0.456309  \n",
       "2            144.458              Solo  0.193332  \n",
       "3            118.145              Solo  0.214906  \n",
       "4             95.012              Duet  0.757347  "
      ]
     },
     "execution_count": 84,
     "metadata": {},
     "output_type": "execute_result"
    }
   ],
   "source": [
    "test.head()"
   ]
  },
  {
   "cell_type": "code",
   "execution_count": 85,
   "metadata": {},
   "outputs": [
    {
     "data": {
      "text/plain": [
       "instance_id            0\n",
       "track_name             0\n",
       "popularity           166\n",
       "acousticness           0\n",
       "danceability         139\n",
       "duration_ms           21\n",
       "energy                33\n",
       "instrumentalness      23\n",
       "key                    0\n",
       "liveness               0\n",
       "loudness               3\n",
       "voice_gender         186\n",
       "mode                  14\n",
       "speechiness            7\n",
       "tempo                  0\n",
       "musician_category    312\n",
       "valence              191\n",
       "dtype: int64"
      ]
     },
     "execution_count": 85,
     "metadata": {},
     "output_type": "execute_result"
    }
   ],
   "source": [
    "test.isnull().sum()"
   ]
  },
  {
   "cell_type": "code",
   "execution_count": 86,
   "metadata": {},
   "outputs": [],
   "source": [
    "test.drop(['instance_id','track_name'], axis=1, inplace= True)"
   ]
  },
  {
   "cell_type": "code",
   "execution_count": 87,
   "metadata": {},
   "outputs": [],
   "source": [
    "key_Dict = test['key'].value_counts()"
   ]
  },
  {
   "cell_type": "code",
   "execution_count": 88,
   "metadata": {},
   "outputs": [],
   "source": [
    "test['Encoded_key'] = test['key'].map(key_Dict)"
   ]
  },
  {
   "cell_type": "code",
   "execution_count": 89,
   "metadata": {},
   "outputs": [],
   "source": [
    "def impute_nan_most_frequent_category(DataFrame,ColName):\n",
    "     most_frequent_category=DataFrame[ColName].mode()[0]\n",
    "     DataFrame[ColName + \"_Imputed\"] = DataFrame[ColName]\n",
    "     DataFrame[ColName + \"_Imputed\"].fillna(most_frequent_category,inplace=True)"
   ]
  },
  {
   "cell_type": "code",
   "execution_count": 90,
   "metadata": {},
   "outputs": [],
   "source": [
    "impute_nan_most_frequent_category(test,'voice_gender')"
   ]
  },
  {
   "cell_type": "code",
   "execution_count": 91,
   "metadata": {},
   "outputs": [],
   "source": [
    "test.drop(['voice_gender'], axis=1, inplace= True)"
   ]
  },
  {
   "cell_type": "code",
   "execution_count": 92,
   "metadata": {},
   "outputs": [],
   "source": [
    "key_Dict = test['voice_gender_Imputed'].value_counts()"
   ]
  },
  {
   "cell_type": "code",
   "execution_count": 94,
   "metadata": {},
   "outputs": [],
   "source": [
    "test['Encoded_voice_gender_Imputed'] = test['voice_gender_Imputed'].map(key_Dict)"
   ]
  },
  {
   "cell_type": "code",
   "execution_count": 95,
   "metadata": {},
   "outputs": [],
   "source": [
    "def impute_nan(test, variable, median):\n",
    "    test[variable+'_median']=test[variable].fillna(median)"
   ]
  },
  {
   "cell_type": "code",
   "execution_count": 96,
   "metadata": {},
   "outputs": [],
   "source": [
    "median=test.popularity.median()\n",
    "impute_nan(test,'popularity', median)"
   ]
  },
  {
   "cell_type": "code",
   "execution_count": 97,
   "metadata": {},
   "outputs": [],
   "source": [
    "median1=test.danceability.mean()\n",
    "impute_nan(test,'danceability', median1)"
   ]
  },
  {
   "cell_type": "code",
   "execution_count": 98,
   "metadata": {},
   "outputs": [],
   "source": [
    "median2=test.duration_ms.median()\n",
    "impute_nan(test,'duration_ms', median2)"
   ]
  },
  {
   "cell_type": "code",
   "execution_count": 99,
   "metadata": {},
   "outputs": [],
   "source": [
    "median3=test.energy.median()\n",
    "impute_nan(test,'energy', median3)"
   ]
  },
  {
   "cell_type": "code",
   "execution_count": 100,
   "metadata": {},
   "outputs": [],
   "source": [
    "median4=test.instrumentalness.median()\n",
    "impute_nan(test,'instrumentalness', median4)"
   ]
  },
  {
   "cell_type": "code",
   "execution_count": 101,
   "metadata": {},
   "outputs": [],
   "source": [
    "median5=test.loudness.median()\n",
    "impute_nan(test,'loudness', median5)"
   ]
  },
  {
   "cell_type": "code",
   "execution_count": 103,
   "metadata": {},
   "outputs": [],
   "source": [
    "median6=test.speechiness.median()\n",
    "impute_nan(test,'speechiness', median6)"
   ]
  },
  {
   "cell_type": "code",
   "execution_count": 104,
   "metadata": {},
   "outputs": [],
   "source": [
    "median7=test.valence.median()\n",
    "impute_nan(test,'valence', median7)"
   ]
  },
  {
   "cell_type": "code",
   "execution_count": 106,
   "metadata": {},
   "outputs": [],
   "source": [
    "test.drop(['popularity','danceability','duration_ms','energy','instrumentalness','loudness','speechiness','valence'], axis=1, inplace= True)"
   ]
  },
  {
   "cell_type": "code",
   "execution_count": 107,
   "metadata": {},
   "outputs": [],
   "source": [
    "test.drop(['mode','tempo','musician_category','voice_gender_Imputed'],axis=1, inplace= True)"
   ]
  },
  {
   "cell_type": "code",
   "execution_count": 108,
   "metadata": {},
   "outputs": [
    {
     "name": "stdout",
     "output_type": "stream",
     "text": [
      "(15681, 12)\n"
     ]
    }
   ],
   "source": [
    "print(train.shape)"
   ]
  },
  {
   "cell_type": "code",
   "execution_count": 109,
   "metadata": {},
   "outputs": [
    {
     "name": "stdout",
     "output_type": "stream",
     "text": [
      "(3921, 13)\n"
     ]
    }
   ],
   "source": [
    "print(test.shape)"
   ]
  },
  {
   "cell_type": "code",
   "execution_count": 110,
   "metadata": {},
   "outputs": [
    {
     "data": {
      "text/html": [
       "<div>\n",
       "<style scoped>\n",
       "    .dataframe tbody tr th:only-of-type {\n",
       "        vertical-align: middle;\n",
       "    }\n",
       "\n",
       "    .dataframe tbody tr th {\n",
       "        vertical-align: top;\n",
       "    }\n",
       "\n",
       "    .dataframe thead th {\n",
       "        text-align: right;\n",
       "    }\n",
       "</style>\n",
       "<table border=\"1\" class=\"dataframe\">\n",
       "  <thead>\n",
       "    <tr style=\"text-align: right;\">\n",
       "      <th></th>\n",
       "      <th>acousticness</th>\n",
       "      <th>liveness</th>\n",
       "      <th>Encoded_key</th>\n",
       "      <th>Encoded_voice_gender_Imputed</th>\n",
       "      <th>popularity_median</th>\n",
       "      <th>danceability_median</th>\n",
       "      <th>duration_ms_median</th>\n",
       "      <th>energy_median</th>\n",
       "      <th>instrumentalness_median</th>\n",
       "      <th>loudness_median</th>\n",
       "      <th>speechiness_median</th>\n",
       "      <th>valence_median</th>\n",
       "    </tr>\n",
       "  </thead>\n",
       "  <tbody>\n",
       "    <tr>\n",
       "      <th>0</th>\n",
       "      <td>0.970522</td>\n",
       "      <td>0.147134</td>\n",
       "      <td>1210</td>\n",
       "      <td>5815</td>\n",
       "      <td>49.178</td>\n",
       "      <td>0.580508</td>\n",
       "      <td>214625.776</td>\n",
       "      <td>0.192107</td>\n",
       "      <td>0.000000</td>\n",
       "      <td>-14.140</td>\n",
       "      <td>0.046404</td>\n",
       "      <td>0.598965</td>\n",
       "    </tr>\n",
       "    <tr>\n",
       "      <th>1</th>\n",
       "      <td>1.009380</td>\n",
       "      <td>0.174655</td>\n",
       "      <td>1479</td>\n",
       "      <td>4953</td>\n",
       "      <td>59.827</td>\n",
       "      <td>0.687542</td>\n",
       "      <td>216232.195</td>\n",
       "      <td>0.265942</td>\n",
       "      <td>0.000031</td>\n",
       "      <td>-13.716</td>\n",
       "      <td>0.039949</td>\n",
       "      <td>0.357194</td>\n",
       "    </tr>\n",
       "    <tr>\n",
       "      <th>2</th>\n",
       "      <td>0.020041</td>\n",
       "      <td>0.042030</td>\n",
       "      <td>1695</td>\n",
       "      <td>5815</td>\n",
       "      <td>89.023</td>\n",
       "      <td>0.967948</td>\n",
       "      <td>273314.723</td>\n",
       "      <td>0.857411</td>\n",
       "      <td>0.000000</td>\n",
       "      <td>-4.995</td>\n",
       "      <td>0.119917</td>\n",
       "      <td>0.635525</td>\n",
       "    </tr>\n",
       "    <tr>\n",
       "      <th>3</th>\n",
       "      <td>0.010284</td>\n",
       "      <td>0.124637</td>\n",
       "      <td>1695</td>\n",
       "      <td>4913</td>\n",
       "      <td>55.762</td>\n",
       "      <td>0.616287</td>\n",
       "      <td>189189.605</td>\n",
       "      <td>0.970513</td>\n",
       "      <td>0.000220</td>\n",
       "      <td>-4.262</td>\n",
       "      <td>0.167493</td>\n",
       "      <td>0.983750</td>\n",
       "    </tr>\n",
       "    <tr>\n",
       "      <th>4</th>\n",
       "      <td>0.858769</td>\n",
       "      <td>0.134782</td>\n",
       "      <td>916</td>\n",
       "      <td>5815</td>\n",
       "      <td>45.095</td>\n",
       "      <td>0.280645</td>\n",
       "      <td>410136.987</td>\n",
       "      <td>0.114732</td>\n",
       "      <td>0.002753</td>\n",
       "      <td>-26.922</td>\n",
       "      <td>0.039139</td>\n",
       "      <td>0.074412</td>\n",
       "    </tr>\n",
       "  </tbody>\n",
       "</table>\n",
       "</div>"
      ],
      "text/plain": [
       "   acousticness  liveness  Encoded_key  Encoded_voice_gender_Imputed  \\\n",
       "0      0.970522  0.147134         1210                          5815   \n",
       "1      1.009380  0.174655         1479                          4953   \n",
       "2      0.020041  0.042030         1695                          5815   \n",
       "3      0.010284  0.124637         1695                          4913   \n",
       "4      0.858769  0.134782          916                          5815   \n",
       "\n",
       "   popularity_median  danceability_median  duration_ms_median  energy_median  \\\n",
       "0             49.178             0.580508          214625.776       0.192107   \n",
       "1             59.827             0.687542          216232.195       0.265942   \n",
       "2             89.023             0.967948          273314.723       0.857411   \n",
       "3             55.762             0.616287          189189.605       0.970513   \n",
       "4             45.095             0.280645          410136.987       0.114732   \n",
       "\n",
       "   instrumentalness_median  loudness_median  speechiness_median  \\\n",
       "0                 0.000000          -14.140            0.046404   \n",
       "1                 0.000031          -13.716            0.039949   \n",
       "2                 0.000000           -4.995            0.119917   \n",
       "3                 0.000220           -4.262            0.167493   \n",
       "4                 0.002753          -26.922            0.039139   \n",
       "\n",
       "   valence_median  \n",
       "0        0.598965  \n",
       "1        0.357194  \n",
       "2        0.635525  \n",
       "3        0.983750  \n",
       "4        0.074412  "
      ]
     },
     "execution_count": 110,
     "metadata": {},
     "output_type": "execute_result"
    }
   ],
   "source": [
    "train.head()\n"
   ]
  },
  {
   "cell_type": "code",
   "execution_count": 111,
   "metadata": {},
   "outputs": [
    {
     "data": {
      "text/html": [
       "<div>\n",
       "<style scoped>\n",
       "    .dataframe tbody tr th:only-of-type {\n",
       "        vertical-align: middle;\n",
       "    }\n",
       "\n",
       "    .dataframe tbody tr th {\n",
       "        vertical-align: top;\n",
       "    }\n",
       "\n",
       "    .dataframe thead th {\n",
       "        text-align: right;\n",
       "    }\n",
       "</style>\n",
       "<table border=\"1\" class=\"dataframe\">\n",
       "  <thead>\n",
       "    <tr style=\"text-align: right;\">\n",
       "      <th></th>\n",
       "      <th>acousticness</th>\n",
       "      <th>key</th>\n",
       "      <th>liveness</th>\n",
       "      <th>Encoded_key</th>\n",
       "      <th>Encoded_voice_gender_Imputed</th>\n",
       "      <th>popularity_median</th>\n",
       "      <th>danceability_median</th>\n",
       "      <th>duration_ms_median</th>\n",
       "      <th>energy_median</th>\n",
       "      <th>instrumentalness_median</th>\n",
       "      <th>loudness_median</th>\n",
       "      <th>speechiness_median</th>\n",
       "      <th>valence_median</th>\n",
       "    </tr>\n",
       "  </thead>\n",
       "  <tbody>\n",
       "    <tr>\n",
       "      <th>0</th>\n",
       "      <td>0.823765</td>\n",
       "      <td>Scale A Sharp</td>\n",
       "      <td>0.120392</td>\n",
       "      <td>269</td>\n",
       "      <td>1492</td>\n",
       "      <td>26.101</td>\n",
       "      <td>0.115490</td>\n",
       "      <td>211462.287</td>\n",
       "      <td>0.125325</td>\n",
       "      <td>0.945272</td>\n",
       "      <td>-25.541</td>\n",
       "      <td>0.038657</td>\n",
       "      <td>0.041238</td>\n",
       "    </tr>\n",
       "    <tr>\n",
       "      <th>1</th>\n",
       "      <td>0.015441</td>\n",
       "      <td>Scale E</td>\n",
       "      <td>0.406722</td>\n",
       "      <td>304</td>\n",
       "      <td>1238</td>\n",
       "      <td>66.325</td>\n",
       "      <td>0.592838</td>\n",
       "      <td>249151.238</td>\n",
       "      <td>0.870798</td>\n",
       "      <td>0.000108</td>\n",
       "      <td>-3.905</td>\n",
       "      <td>0.051368</td>\n",
       "      <td>0.456309</td>\n",
       "    </tr>\n",
       "    <tr>\n",
       "      <th>2</th>\n",
       "      <td>0.001006</td>\n",
       "      <td>Scale C</td>\n",
       "      <td>0.084608</td>\n",
       "      <td>433</td>\n",
       "      <td>1191</td>\n",
       "      <td>71.871</td>\n",
       "      <td>0.510340</td>\n",
       "      <td>215693.240</td>\n",
       "      <td>0.683077</td>\n",
       "      <td>0.000000</td>\n",
       "      <td>-6.825</td>\n",
       "      <td>0.034303</td>\n",
       "      <td>0.193332</td>\n",
       "    </tr>\n",
       "    <tr>\n",
       "      <th>3</th>\n",
       "      <td>0.315650</td>\n",
       "      <td>Scale A</td>\n",
       "      <td>0.276811</td>\n",
       "      <td>359</td>\n",
       "      <td>1191</td>\n",
       "      <td>56.151</td>\n",
       "      <td>0.338336</td>\n",
       "      <td>307056.179</td>\n",
       "      <td>0.608904</td>\n",
       "      <td>0.000000</td>\n",
       "      <td>-8.382</td>\n",
       "      <td>0.036934</td>\n",
       "      <td>0.214906</td>\n",
       "    </tr>\n",
       "    <tr>\n",
       "      <th>4</th>\n",
       "      <td>0.038336</td>\n",
       "      <td>Scale D</td>\n",
       "      <td>0.301726</td>\n",
       "      <td>413</td>\n",
       "      <td>1492</td>\n",
       "      <td>43.687</td>\n",
       "      <td>0.773904</td>\n",
       "      <td>352802.872</td>\n",
       "      <td>0.955500</td>\n",
       "      <td>0.000007</td>\n",
       "      <td>-4.733</td>\n",
       "      <td>0.079688</td>\n",
       "      <td>0.757347</td>\n",
       "    </tr>\n",
       "  </tbody>\n",
       "</table>\n",
       "</div>"
      ],
      "text/plain": [
       "   acousticness            key  liveness  Encoded_key  \\\n",
       "0      0.823765  Scale A Sharp  0.120392          269   \n",
       "1      0.015441        Scale E  0.406722          304   \n",
       "2      0.001006        Scale C  0.084608          433   \n",
       "3      0.315650        Scale A  0.276811          359   \n",
       "4      0.038336        Scale D  0.301726          413   \n",
       "\n",
       "   Encoded_voice_gender_Imputed  popularity_median  danceability_median  \\\n",
       "0                          1492             26.101             0.115490   \n",
       "1                          1238             66.325             0.592838   \n",
       "2                          1191             71.871             0.510340   \n",
       "3                          1191             56.151             0.338336   \n",
       "4                          1492             43.687             0.773904   \n",
       "\n",
       "   duration_ms_median  energy_median  instrumentalness_median  \\\n",
       "0          211462.287       0.125325                 0.945272   \n",
       "1          249151.238       0.870798                 0.000108   \n",
       "2          215693.240       0.683077                 0.000000   \n",
       "3          307056.179       0.608904                 0.000000   \n",
       "4          352802.872       0.955500                 0.000007   \n",
       "\n",
       "   loudness_median  speechiness_median  valence_median  \n",
       "0          -25.541            0.038657        0.041238  \n",
       "1           -3.905            0.051368        0.456309  \n",
       "2           -6.825            0.034303        0.193332  \n",
       "3           -8.382            0.036934        0.214906  \n",
       "4           -4.733            0.079688        0.757347  "
      ]
     },
     "execution_count": 111,
     "metadata": {},
     "output_type": "execute_result"
    }
   ],
   "source": [
    "test.head()"
   ]
  },
  {
   "cell_type": "code",
   "execution_count": 112,
   "metadata": {},
   "outputs": [],
   "source": [
    "test.drop(['key'],axis=1, inplace= True)"
   ]
  },
  {
   "cell_type": "code",
   "execution_count": 113,
   "metadata": {},
   "outputs": [],
   "source": [
    "test_pred=rfc.predict(test)"
   ]
  },
  {
   "cell_type": "code",
   "execution_count": 114,
   "metadata": {},
   "outputs": [],
   "source": [
    "df= pd.read_csv(r'C:\\Users\\HP\\Downloads\\elli lilly\\dataset\\test.csv')"
   ]
  },
  {
   "cell_type": "code",
   "execution_count": 117,
   "metadata": {},
   "outputs": [],
   "source": [
    "sample= pd.read_csv(r'C:\\Users\\HP\\Downloads\\elli lilly\\dataset\\sample_submission.csv')"
   ]
  },
  {
   "cell_type": "code",
   "execution_count": 116,
   "metadata": {},
   "outputs": [],
   "source": [
    "Index=df['instance_id']"
   ]
  },
  {
   "cell_type": "code",
   "execution_count": 115,
   "metadata": {},
   "outputs": [
    {
     "data": {
      "text/html": [
       "<div>\n",
       "<style scoped>\n",
       "    .dataframe tbody tr th:only-of-type {\n",
       "        vertical-align: middle;\n",
       "    }\n",
       "\n",
       "    .dataframe tbody tr th {\n",
       "        vertical-align: top;\n",
       "    }\n",
       "\n",
       "    .dataframe thead th {\n",
       "        text-align: right;\n",
       "    }\n",
       "</style>\n",
       "<table border=\"1\" class=\"dataframe\">\n",
       "  <thead>\n",
       "    <tr style=\"text-align: right;\">\n",
       "      <th></th>\n",
       "      <th>instance_id</th>\n",
       "      <th>track_name</th>\n",
       "      <th>popularity</th>\n",
       "      <th>acousticness</th>\n",
       "      <th>danceability</th>\n",
       "      <th>duration_ms</th>\n",
       "      <th>energy</th>\n",
       "      <th>instrumentalness</th>\n",
       "      <th>key</th>\n",
       "      <th>liveness</th>\n",
       "      <th>loudness</th>\n",
       "      <th>voice_gender</th>\n",
       "      <th>mode</th>\n",
       "      <th>speechiness</th>\n",
       "      <th>tempo</th>\n",
       "      <th>musician_category</th>\n",
       "      <th>valence</th>\n",
       "    </tr>\n",
       "  </thead>\n",
       "  <tbody>\n",
       "    <tr>\n",
       "      <th>0</th>\n",
       "      <td>MSC_70753.0</td>\n",
       "      <td>Bard, a Man of Lake-town - Extended Version</td>\n",
       "      <td>26.101</td>\n",
       "      <td>0.823765</td>\n",
       "      <td>0.115490</td>\n",
       "      <td>211462.287</td>\n",
       "      <td>0.125325</td>\n",
       "      <td>0.945272</td>\n",
       "      <td>Scale A Sharp</td>\n",
       "      <td>0.120392</td>\n",
       "      <td>-25.541</td>\n",
       "      <td>Both</td>\n",
       "      <td>Minor</td>\n",
       "      <td>0.038657</td>\n",
       "      <td>80.777</td>\n",
       "      <td>Duet</td>\n",
       "      <td>0.041238</td>\n",
       "    </tr>\n",
       "    <tr>\n",
       "      <th>1</th>\n",
       "      <td>MSC_24064.0</td>\n",
       "      <td>New Kings</td>\n",
       "      <td>66.325</td>\n",
       "      <td>0.015441</td>\n",
       "      <td>0.592838</td>\n",
       "      <td>249151.238</td>\n",
       "      <td>0.870798</td>\n",
       "      <td>0.000108</td>\n",
       "      <td>Scale E</td>\n",
       "      <td>0.406722</td>\n",
       "      <td>-3.905</td>\n",
       "      <td>Male</td>\n",
       "      <td>?</td>\n",
       "      <td>0.051368</td>\n",
       "      <td>76.00399999999999</td>\n",
       "      <td>Band</td>\n",
       "      <td>0.456309</td>\n",
       "    </tr>\n",
       "    <tr>\n",
       "      <th>2</th>\n",
       "      <td>MSC_22731.0</td>\n",
       "      <td>Silver Lining</td>\n",
       "      <td>71.871</td>\n",
       "      <td>0.001006</td>\n",
       "      <td>0.510340</td>\n",
       "      <td>215693.240</td>\n",
       "      <td>0.683077</td>\n",
       "      <td>0.000000</td>\n",
       "      <td>Scale C</td>\n",
       "      <td>0.084608</td>\n",
       "      <td>-6.825</td>\n",
       "      <td>Female</td>\n",
       "      <td>Major</td>\n",
       "      <td>0.034303</td>\n",
       "      <td>144.458</td>\n",
       "      <td>Solo</td>\n",
       "      <td>0.193332</td>\n",
       "    </tr>\n",
       "    <tr>\n",
       "      <th>3</th>\n",
       "      <td>MSC_32095.0</td>\n",
       "      <td>A Tale That Wasn't Right</td>\n",
       "      <td>56.151</td>\n",
       "      <td>0.315650</td>\n",
       "      <td>0.338336</td>\n",
       "      <td>307056.179</td>\n",
       "      <td>0.608904</td>\n",
       "      <td>0.000000</td>\n",
       "      <td>Scale A</td>\n",
       "      <td>0.276811</td>\n",
       "      <td>-8.382</td>\n",
       "      <td>Female</td>\n",
       "      <td>Minor</td>\n",
       "      <td>0.036934</td>\n",
       "      <td>118.145</td>\n",
       "      <td>Solo</td>\n",
       "      <td>0.214906</td>\n",
       "    </tr>\n",
       "    <tr>\n",
       "      <th>4</th>\n",
       "      <td>MSC_24198.0</td>\n",
       "      <td>Get Ready</td>\n",
       "      <td>43.687</td>\n",
       "      <td>0.038336</td>\n",
       "      <td>0.773904</td>\n",
       "      <td>352802.872</td>\n",
       "      <td>0.955500</td>\n",
       "      <td>0.000007</td>\n",
       "      <td>Scale D</td>\n",
       "      <td>0.301726</td>\n",
       "      <td>-4.733</td>\n",
       "      <td>Both</td>\n",
       "      <td>Major</td>\n",
       "      <td>0.079688</td>\n",
       "      <td>95.012</td>\n",
       "      <td>Duet</td>\n",
       "      <td>0.757347</td>\n",
       "    </tr>\n",
       "  </tbody>\n",
       "</table>\n",
       "</div>"
      ],
      "text/plain": [
       "   instance_id                                   track_name  popularity  \\\n",
       "0  MSC_70753.0  Bard, a Man of Lake-town - Extended Version      26.101   \n",
       "1  MSC_24064.0                                    New Kings      66.325   \n",
       "2  MSC_22731.0                                Silver Lining      71.871   \n",
       "3  MSC_32095.0                     A Tale That Wasn't Right      56.151   \n",
       "4  MSC_24198.0                                    Get Ready      43.687   \n",
       "\n",
       "   acousticness  danceability  duration_ms    energy  instrumentalness  \\\n",
       "0      0.823765      0.115490   211462.287  0.125325          0.945272   \n",
       "1      0.015441      0.592838   249151.238  0.870798          0.000108   \n",
       "2      0.001006      0.510340   215693.240  0.683077          0.000000   \n",
       "3      0.315650      0.338336   307056.179  0.608904          0.000000   \n",
       "4      0.038336      0.773904   352802.872  0.955500          0.000007   \n",
       "\n",
       "             key  liveness  loudness voice_gender   mode  speechiness  \\\n",
       "0  Scale A Sharp  0.120392   -25.541         Both  Minor     0.038657   \n",
       "1        Scale E  0.406722    -3.905         Male      ?     0.051368   \n",
       "2        Scale C  0.084608    -6.825       Female  Major     0.034303   \n",
       "3        Scale A  0.276811    -8.382       Female  Minor     0.036934   \n",
       "4        Scale D  0.301726    -4.733         Both  Major     0.079688   \n",
       "\n",
       "               tempo musician_category   valence  \n",
       "0             80.777              Duet  0.041238  \n",
       "1  76.00399999999999              Band  0.456309  \n",
       "2            144.458              Solo  0.193332  \n",
       "3            118.145              Solo  0.214906  \n",
       "4             95.012              Duet  0.757347  "
      ]
     },
     "execution_count": 115,
     "metadata": {},
     "output_type": "execute_result"
    }
   ],
   "source": [
    "df.head()"
   ]
  },
  {
   "cell_type": "code",
   "execution_count": 118,
   "metadata": {},
   "outputs": [
    {
     "data": {
      "text/html": [
       "<div>\n",
       "<style scoped>\n",
       "    .dataframe tbody tr th:only-of-type {\n",
       "        vertical-align: middle;\n",
       "    }\n",
       "\n",
       "    .dataframe tbody tr th {\n",
       "        vertical-align: top;\n",
       "    }\n",
       "\n",
       "    .dataframe thead th {\n",
       "        text-align: right;\n",
       "    }\n",
       "</style>\n",
       "<table border=\"1\" class=\"dataframe\">\n",
       "  <thead>\n",
       "    <tr style=\"text-align: right;\">\n",
       "      <th></th>\n",
       "      <th>instance_id</th>\n",
       "      <th>music_genre</th>\n",
       "    </tr>\n",
       "  </thead>\n",
       "  <tbody>\n",
       "    <tr>\n",
       "      <th>0</th>\n",
       "      <td>MSC_83537.0</td>\n",
       "      <td>Jazz</td>\n",
       "    </tr>\n",
       "    <tr>\n",
       "      <th>1</th>\n",
       "      <td>MSC_22044.0</td>\n",
       "      <td>Jazz</td>\n",
       "    </tr>\n",
       "    <tr>\n",
       "      <th>2</th>\n",
       "      <td>MSC_62017.0</td>\n",
       "      <td>Rap</td>\n",
       "    </tr>\n",
       "    <tr>\n",
       "      <th>3</th>\n",
       "      <td>MSC_76365.0</td>\n",
       "      <td>Rock</td>\n",
       "    </tr>\n",
       "    <tr>\n",
       "      <th>4</th>\n",
       "      <td>MSC_71493.0</td>\n",
       "      <td>Classical</td>\n",
       "    </tr>\n",
       "  </tbody>\n",
       "</table>\n",
       "</div>"
      ],
      "text/plain": [
       "   instance_id music_genre\n",
       "0  MSC_83537.0        Jazz\n",
       "1  MSC_22044.0        Jazz\n",
       "2  MSC_62017.0         Rap\n",
       "3  MSC_76365.0        Rock\n",
       "4  MSC_71493.0   Classical"
      ]
     },
     "execution_count": 118,
     "metadata": {},
     "output_type": "execute_result"
    }
   ],
   "source": [
    "sample.head()"
   ]
  },
  {
   "cell_type": "code",
   "execution_count": 119,
   "metadata": {},
   "outputs": [],
   "source": [
    "submission_df = pd.DataFrame({\n",
    "                  \"instance_id\": Index, \n",
    "                  \"music_genre\": test_pred})"
   ]
  },
  {
   "cell_type": "code",
   "execution_count": 120,
   "metadata": {},
   "outputs": [
    {
     "data": {
      "text/html": [
       "<div>\n",
       "<style scoped>\n",
       "    .dataframe tbody tr th:only-of-type {\n",
       "        vertical-align: middle;\n",
       "    }\n",
       "\n",
       "    .dataframe tbody tr th {\n",
       "        vertical-align: top;\n",
       "    }\n",
       "\n",
       "    .dataframe thead th {\n",
       "        text-align: right;\n",
       "    }\n",
       "</style>\n",
       "<table border=\"1\" class=\"dataframe\">\n",
       "  <thead>\n",
       "    <tr style=\"text-align: right;\">\n",
       "      <th></th>\n",
       "      <th>instance_id</th>\n",
       "      <th>music_genre</th>\n",
       "    </tr>\n",
       "  </thead>\n",
       "  <tbody>\n",
       "    <tr>\n",
       "      <th>0</th>\n",
       "      <td>MSC_70753.0</td>\n",
       "      <td>0</td>\n",
       "    </tr>\n",
       "    <tr>\n",
       "      <th>1</th>\n",
       "      <td>MSC_24064.0</td>\n",
       "      <td>2</td>\n",
       "    </tr>\n",
       "    <tr>\n",
       "      <th>2</th>\n",
       "      <td>MSC_22731.0</td>\n",
       "      <td>2</td>\n",
       "    </tr>\n",
       "    <tr>\n",
       "      <th>3</th>\n",
       "      <td>MSC_32095.0</td>\n",
       "      <td>2</td>\n",
       "    </tr>\n",
       "    <tr>\n",
       "      <th>4</th>\n",
       "      <td>MSC_24198.0</td>\n",
       "      <td>2</td>\n",
       "    </tr>\n",
       "  </tbody>\n",
       "</table>\n",
       "</div>"
      ],
      "text/plain": [
       "   instance_id  music_genre\n",
       "0  MSC_70753.0            0\n",
       "1  MSC_24064.0            2\n",
       "2  MSC_22731.0            2\n",
       "3  MSC_32095.0            2\n",
       "4  MSC_24198.0            2"
      ]
     },
     "execution_count": 120,
     "metadata": {},
     "output_type": "execute_result"
    }
   ],
   "source": [
    "submission_df.head()"
   ]
  },
  {
   "cell_type": "code",
   "execution_count": 121,
   "metadata": {},
   "outputs": [],
   "source": [
    "datamapping1={0:'Jazz', 1:'Rap',2:'Rock', 3:'Classical', 4:'Electronic', 5:'Country',\n",
    "       6:'Hip-Hop'\n",
    "    \n",
    "}"
   ]
  },
  {
   "cell_type": "code",
   "execution_count": 123,
   "metadata": {},
   "outputs": [],
   "source": [
    "submission_df ['music_genre']=submission_df ['music_genre'].map(datamapping1)"
   ]
  },
  {
   "cell_type": "code",
   "execution_count": 124,
   "metadata": {},
   "outputs": [
    {
     "data": {
      "text/html": [
       "<div>\n",
       "<style scoped>\n",
       "    .dataframe tbody tr th:only-of-type {\n",
       "        vertical-align: middle;\n",
       "    }\n",
       "\n",
       "    .dataframe tbody tr th {\n",
       "        vertical-align: top;\n",
       "    }\n",
       "\n",
       "    .dataframe thead th {\n",
       "        text-align: right;\n",
       "    }\n",
       "</style>\n",
       "<table border=\"1\" class=\"dataframe\">\n",
       "  <thead>\n",
       "    <tr style=\"text-align: right;\">\n",
       "      <th></th>\n",
       "      <th>instance_id</th>\n",
       "      <th>music_genre</th>\n",
       "    </tr>\n",
       "  </thead>\n",
       "  <tbody>\n",
       "    <tr>\n",
       "      <th>0</th>\n",
       "      <td>MSC_70753.0</td>\n",
       "      <td>Jazz</td>\n",
       "    </tr>\n",
       "    <tr>\n",
       "      <th>1</th>\n",
       "      <td>MSC_24064.0</td>\n",
       "      <td>Rock</td>\n",
       "    </tr>\n",
       "    <tr>\n",
       "      <th>2</th>\n",
       "      <td>MSC_22731.0</td>\n",
       "      <td>Rock</td>\n",
       "    </tr>\n",
       "    <tr>\n",
       "      <th>3</th>\n",
       "      <td>MSC_32095.0</td>\n",
       "      <td>Rock</td>\n",
       "    </tr>\n",
       "    <tr>\n",
       "      <th>4</th>\n",
       "      <td>MSC_24198.0</td>\n",
       "      <td>Rock</td>\n",
       "    </tr>\n",
       "  </tbody>\n",
       "</table>\n",
       "</div>"
      ],
      "text/plain": [
       "   instance_id music_genre\n",
       "0  MSC_70753.0        Jazz\n",
       "1  MSC_24064.0        Rock\n",
       "2  MSC_22731.0        Rock\n",
       "3  MSC_32095.0        Rock\n",
       "4  MSC_24198.0        Rock"
      ]
     },
     "execution_count": 124,
     "metadata": {},
     "output_type": "execute_result"
    }
   ],
   "source": [
    "submission_df.head()"
   ]
  },
  {
   "cell_type": "code",
   "execution_count": 125,
   "metadata": {},
   "outputs": [
    {
     "name": "stdout",
     "output_type": "stream",
     "text": [
      "(3921, 2)\n"
     ]
    }
   ],
   "source": [
    "print(submission_df.shape)"
   ]
  },
  {
   "cell_type": "code",
   "execution_count": 127,
   "metadata": {},
   "outputs": [],
   "source": [
    "submission_df.to_csv(r'C:\\Users\\HP\\Downloads\\elli lilly\\dataset\\submission_1.csv', index=False, header=True)"
   ]
  },
  {
   "cell_type": "code",
   "execution_count": null,
   "metadata": {},
   "outputs": [],
   "source": []
  }
 ],
 "metadata": {
  "kernelspec": {
   "display_name": "Python 3",
   "language": "python",
   "name": "python3"
  },
  "language_info": {
   "codemirror_mode": {
    "name": "ipython",
    "version": 3
   },
   "file_extension": ".py",
   "mimetype": "text/x-python",
   "name": "python",
   "nbconvert_exporter": "python",
   "pygments_lexer": "ipython3",
   "version": "3.7.3"
  }
 },
 "nbformat": 4,
 "nbformat_minor": 2
}
